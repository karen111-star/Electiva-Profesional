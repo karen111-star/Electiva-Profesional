{
 "cells": [
  {
   "cell_type": "markdown",
   "id": "59eb3ca1",
   "metadata": {},
   "source": [
    "# Ejercicio 1\n"
   ]
  },
  {
   "cell_type": "markdown",
   "id": "994a026c",
   "metadata": {},
   "source": [
    "A continuación encuentras dos arreglos. Cada uno contiene los salarios (en USD) de los funcionarios de un área de una empresa."
   ]
  },
  {
   "cell_type": "code",
   "execution_count": 7,
   "id": "6603205f",
   "metadata": {},
   "outputs": [],
   "source": [
    "import numpy as np\n",
    "import pandas as pd\n",
    "\n",
    "mercadeo = np.array([2000, 1500, 1300, 1600])\n",
    "logistica = np.array([1800, 1600, 1200, 1600])"
   ]
  },
  {
   "cell_type": "markdown",
   "id": "8c693444",
   "metadata": {},
   "source": [
    "Implementa una función llamada promedio que reciba dos arreglos por parámetro, los una y retorne el promedio de los elementos de la unión.\n",
    "\n",
    "Esta función debe retornar un float"
   ]
  },
  {
   "cell_type": "code",
   "execution_count": 8,
   "metadata": {},
   "outputs": [],
   "source": [
    "def promedio(array1, array2)-> float:\n",
    "    return np.concatenate((array1, array2)).mean() #saca el promedio\n"
   ]
  },
  {
   "cell_type": "code",
   "execution_count": 9,
   "id": "887a530c",
   "metadata": {},
   "outputs": [
    {
     "name": "stdout",
     "output_type": "stream",
     "text": [
      "Felicidades, realizaste este ejercicio correctamente.\n"
     ]
    }
   ],
   "source": [
    "## AUTO-CALIFICADOR\n",
    "\n",
    "# Base variables\n",
    "mercadeo_test = np.array([2000, 1800, 1300])\n",
    "logistica_test = np.array([1100, 1900, 1600, 1500])\n",
    "# Respuestas 1800 og  y 1600 test\n",
    "\n",
    "# Caso 1: no existe la función.\n",
    "try:\n",
    "    promedio\n",
    "    assert type(promedio) == type(lambda:None)\n",
    "except:\n",
    "    raise NotImplementedError(\"No existe una función llamada promedio.\",)\n",
    "\n",
    "# Caso 2: la función es interrumpida por errores durante su ejecución.\n",
    "try:\n",
    "    promedio(mercadeo, logistica)\n",
    "    promedio(mercadeo_test, logistica_test)\n",
    "except:\n",
    "    raise RuntimeError(\"Tu función produce un error al ejecutarse.\")\n",
    "\n",
    "# Caso 3: no retorna un número\n",
    "assert type(promedio(mercadeo_test, logistica_test)) == np.float64, f\"Tu función debe retornar un valor de tipo {np.float64}.\"\n",
    "\n",
    "# Caso 4: respuesta explicita\n",
    "assert promedio(mercadeo_test, logistica_test) != 1800.0, \"Tu respuesta es incorrecta para una instancia diferente. Utiliza los parámetros.\"\n",
    "\n",
    "# Caso 5: procedimiento incorrecto\n",
    "assert promedio(mercadeo_test, logistica_test) <= 1600.0, \"Tu respuesta es incorrecta. Asegurate de cocatenar los arreglos y luego calcular un promedio.\"\n",
    "\n",
    "# Caso 6: retorna un numero distinto del esperado\n",
    "assert promedio(mercadeo_test, logistica_test) == 1600.0, \"Tu respuesta es incorrecta. Es posible que hayas omitido algún valor al realizar el cálculo.\"\n",
    "assert promedio(mercadeo, logistica) == 1575.0, \"Tu respuesta es incorrecta. Es posible que hayas omitido algún valor al realizar el cálculo.\"\n",
    "\n",
    "# Mensaje de felicitaciones\n",
    "print(\"Felicidades, realizaste este ejercicio correctamente.\")\n"
   ]
  },
  {
   "cell_type": "markdown",
   "id": "9a65caed",
   "metadata": {},
   "source": [
    "## Ejercicio 3\n"
   ]
  },
  {
   "cell_type": "markdown",
   "id": "73d7c476",
   "metadata": {},
   "source": [
    "A continuación encuentras un Series que contiene la edad de Sonia y sus hermanos. Ellos quieren quienes son los dos mayores para estar atentos a la vacunación"
   ]
  },
  {
   "cell_type": "code",
   "execution_count": 10,
   "id": "db171da2",
   "metadata": {},
   "outputs": [],
   "source": [
    "hermanos = pd.Series({\"Sonia\": 40, \"Patricia\": 42, \"Jorge\": 37, \"Alejandro\": 45, \"Aura\": 47, \"Carlos\": 40, \"Claudia\": 41, \"Victor\": 43})"
   ]
  },
  {
   "cell_type": "markdown",
   "id": "4ee2d1f1",
   "metadata": {},
   "source": [
    "Implementa una función llamada mayores que reciba un Series por parámetro y retorne los dos mayores valores en una tupla.\n",
    "\n",
    "Esta función debe retornar una tupla de la forma (mayor_valor1, mayor_valor2) , dónde mayor_valor1 es mayor o igual que mayor_valor2 ."
   ]
  },
  {
   "cell_type": "code",
   "execution_count": 11,
   "id": "fc8c6467",
   "metadata": {},
   "outputs": [],
   "source": [
    "def mayores(serie) -> (int, int):\n",
    "    return (serie.max(), serie.sort_values().iloc[-2]) #retorna el mayor y el segundo mayor\n"
   ]
  },
  {
   "cell_type": "code",
   "execution_count": 12,
   "id": "44130fe1",
   "metadata": {},
   "outputs": [
    {
     "name": "stdout",
     "output_type": "stream",
     "text": [
      "Felicidades, realizaste este ejercicio correctamente.\n"
     ]
    }
   ],
   "source": [
    "# Base variables\n",
    "hermanos_test = pd.Series({\"Sonia\": 43, \"Patricia\": 46, \"Jorge\": 39, \"Alejandro\": 40, \"Aura\": 30, \"Carlos\": 41, \"Claudia\": 40})\n",
    "\n",
    "# Caso 1: no existe la función.\n",
    "try:\n",
    "    mayores\n",
    "    assert type(mayores) == type(lambda:None)\n",
    "except:\n",
    "    raise NotImplementedError(\"No existe una función llamada mayores.\",)\n",
    "\n",
    "# Caso 2: la función es interrumpida por errores durante su ejecución.\n",
    "try:\n",
    "    mayores(hermanos)\n",
    "    mayores(hermanos_test)\n",
    "except:\n",
    "    raise RuntimeError(\"Tu función produce un error al ejecutarse.\")\n",
    "\n",
    "# Caso 3: no retorna una lista\n",
    "assert type(mayores(hermanos_test)) == type((\"\",)), f\"Tu función debe retornar un objeto de tipo {type(tuple).__name__}.\"\n",
    "\n",
    "# Caso 4: tamaño incorrecto\n",
    "assert len(mayores(hermanos_test)) == 2, \"Tu función retorna una lista de un tamaño diferente al solicitado.\"\n",
    "\n",
    "# Caso 5: procedimiento incorrecto\n",
    "assert mayores(hermanos_test) != [47, 45], \"Tu respuesta es incorrecta para una instancia diferente. Utiliza los parámetros.\"\n",
    "\n",
    "# Caso 6: la lista no contiene todos los valores correctos\n",
    "try:\n",
    "    assert mayores(hermanos_test).count(46) >= 1\n",
    "    assert mayores(hermanos_test).count(43) >= 1\n",
    "except AssertionError as e:\n",
    "    e.args += (\"Tu respuesta no contiene la información solicitada.\",)\n",
    "    raise e\n",
    "\n",
    "# Caso 7: la lista es estrictamente correcta\n",
    "try:\n",
    "    assert mayores(hermanos_test)[0] == 46\n",
    "    assert mayores(hermanos_test)[1] == 43\n",
    "except AssertionError as e:\n",
    "    e.args += (\"Tu respuesta tiene un orden incorrecto.\",)\n",
    "    raise e\n",
    "\n",
    "# Caso 8: retorna un numero distinto del esperado\n",
    "assert mayores(hermanos) == (47, 45), \"Tu respuesta es incorrecta.\"\n",
    "\n",
    "# Mensaje de felicitaciones\n",
    "print(\"Felicidades, realizaste este ejercicio correctamente.\")"
   ]
  },
  {
   "cell_type": "markdown",
   "id": "2dffe046",
   "metadata": {},
   "source": [
    "## Ejercicio 3"
   ]
  },
  {
   "cell_type": "markdown",
   "id": "eb2e2000",
   "metadata": {},
   "source": [
    "## Salarios en latinoamérica\n",
    "\n",
    "A continuación, encuentras declarado un `DataFrame` que contiene la edad, la ciudad de residencia y el salario (en USD) de nombres de algunos empleados de una multinacional. Utiliza esta información para dar respuesta a los ejercicios 3, 4 y 5."
   ]
  },
  {
   "cell_type": "code",
   "execution_count": 13,
   "metadata": {},
   "outputs": [
    {
     "data": {
      "text/html": [
       "<div>\n",
       "<style scoped>\n",
       "    .dataframe tbody tr th:only-of-type {\n",
       "        vertical-align: middle;\n",
       "    }\n",
       "\n",
       "    .dataframe tbody tr th {\n",
       "        vertical-align: top;\n",
       "    }\n",
       "\n",
       "    .dataframe thead th {\n",
       "        text-align: right;\n",
       "    }\n",
       "</style>\n",
       "<table border=\"1\" class=\"dataframe\">\n",
       "  <thead>\n",
       "    <tr style=\"text-align: right;\">\n",
       "      <th></th>\n",
       "      <th>Edad</th>\n",
       "      <th>Ciudad Residencia</th>\n",
       "      <th>Salario (en USD)</th>\n",
       "    </tr>\n",
       "  </thead>\n",
       "  <tbody>\n",
       "    <tr>\n",
       "      <th>Carlos</th>\n",
       "      <td>28</td>\n",
       "      <td>Bogotá</td>\n",
       "      <td>2000</td>\n",
       "    </tr>\n",
       "    <tr>\n",
       "      <th>David</th>\n",
       "      <td>37</td>\n",
       "      <td>Lima</td>\n",
       "      <td>3200</td>\n",
       "    </tr>\n",
       "    <tr>\n",
       "      <th>Ana</th>\n",
       "      <td>23</td>\n",
       "      <td>Bogotá</td>\n",
       "      <td>1700</td>\n",
       "    </tr>\n",
       "    <tr>\n",
       "      <th>Maria</th>\n",
       "      <td>25</td>\n",
       "      <td>Buenos Aires</td>\n",
       "      <td>1100</td>\n",
       "    </tr>\n",
       "    <tr>\n",
       "      <th>Felipe</th>\n",
       "      <td>43</td>\n",
       "      <td>Buenos Aires</td>\n",
       "      <td>3300</td>\n",
       "    </tr>\n",
       "    <tr>\n",
       "      <th>Luisa</th>\n",
       "      <td>58</td>\n",
       "      <td>Lima</td>\n",
       "      <td>5500</td>\n",
       "    </tr>\n",
       "    <tr>\n",
       "      <th>Juan</th>\n",
       "      <td>32</td>\n",
       "      <td>Bogotá</td>\n",
       "      <td>2700</td>\n",
       "    </tr>\n",
       "    <tr>\n",
       "      <th>Camila</th>\n",
       "      <td>35</td>\n",
       "      <td>Quito</td>\n",
       "      <td>2500</td>\n",
       "    </tr>\n",
       "  </tbody>\n",
       "</table>\n",
       "</div>"
      ],
      "text/plain": [
       "        Edad Ciudad Residencia  Salario (en USD)\n",
       "Carlos    28            Bogotá              2000\n",
       "David     37              Lima              3200\n",
       "Ana       23            Bogotá              1700\n",
       "Maria     25      Buenos Aires              1100\n",
       "Felipe    43      Buenos Aires              3300\n",
       "Luisa     58              Lima              5500\n",
       "Juan      32            Bogotá              2700\n",
       "Camila    35             Quito              2500"
      ]
     },
     "execution_count": 13,
     "metadata": {},
     "output_type": "execute_result"
    }
   ],
   "source": [
    "\n",
    "e1 = [ 28,\"Bogotá\", 2000]\n",
    "e2 = [ 37, \"Lima\", 3200 ]\n",
    "e3 = [ 23,\"Bogotá\", 1700]\n",
    "e4 = [ 25, \"Buenos Aires\", 1100 ]\n",
    "e5 = [ 43,\"Buenos Aires\", 3300]\n",
    "e6 = [ 58, \"Lima\", 5500 ]\n",
    "e7 = [ 32,\"Bogotá\", 2700]\n",
    "e8 = [ 35, \"Quito\", 2500 ]\n",
    "\n",
    "empleados = pd.DataFrame([e1,e2, e3, e4, e5, e6, e7, e8],\n",
    "                         index = [\"Carlos\", \"David\", \"Ana\", \"Maria\", \"Felipe\", \"Luisa\", \"Juan\", \"Camila\"],\n",
    "                         columns = [\"Edad\", \"Ciudad Residencia\", \"Salario (en USD)\"])\n",
    "empleados"
   ]
  },
  {
   "cell_type": "markdown",
   "id": "799f96e4",
   "metadata": {},
   "source": [
    "\n",
    "\n",
    "Implementa una función llamada `ciudades` que reciba un `DataFrame` por parámetro y retorne el número de ciudades diferentes en las que residen los empleados de la multinacional.\n",
    "\n",
    "*Esta función debe retornar un `int`*."
   ]
  },
  {
   "cell_type": "code",
   "execution_count": null,
   "id": "553ea23f",
   "metadata": {},
   "outputs": [],
   "source": [
    "def ciudades (empleados: pd.DataFrame) -> int: #con pandas\n",
    "    return empleados[\"Ciudad Residencia\"].nunique() #ciudades diferentes"
   ]
  },
  {
   "cell_type": "code",
   "execution_count": 18,
   "id": "d039d7b5",
   "metadata": {},
   "outputs": [
    {
     "name": "stdout",
     "output_type": "stream",
     "text": [
      "Felicidades, realizaste este ejercicio correctamente.\n"
     ]
    }
   ],
   "source": [
    "## AUTO-CALIFICADOR\n",
    "\n",
    "# Test paremters\n",
    "e1 = [ 28,\"Quito\", 2000]\n",
    "e2 = [ 37, \"Lima\", 3200 ]\n",
    "e3 = [ 22,\"Bogotá\", 1700]\n",
    "e4 = [ 35, \"Santiago\", 1100]\n",
    "e5 = [ 41,\"Buenos Aires\", 3900]\n",
    "e6 = [ 58, \"Lima\", 5500]\n",
    "e7 = [ 22,\"Brasilia\", 2100]\n",
    "e8 = [ 35, \"Bogotá\", 2500]\n",
    "\n",
    "empleados_test = pd.DataFrame([e1,e2, e3, e4, e5, e6, e7, e8],\n",
    "                              index = [\"Carlos\", \"David\", \"Ana\", \"Maria\", \"Felipe\", \"Luisa\", \"Juan\", \"Camila\"],\n",
    "                              columns = [\"Edad\", \"Ciudad Residencia\", \"Salario (en USD)\"])\n",
    "\n",
    "# Caso 1: no existe la función.\n",
    "try:\n",
    "    ciudades\n",
    "    assert type(ciudades) == type(lambda:None)\n",
    "except:\n",
    "    raise NotImplementedError(\"No existe una función llamada ciudades.\")\n",
    "\n",
    "# Caso 2: la función es interrumpida por errores durante su ejecución.\n",
    "try:\n",
    "    ciudades(empleados)\n",
    "    ciudades(empleados_test)\n",
    "except:\n",
    "    raise RuntimeError(\"Tu función produce un error al ejecutarse.\")\n",
    "\n",
    "# Caso 3: no retorna un int\n",
    "assert type(ciudades(empleados_test)) == int, f\"Tu función debe retornar un objeto de tipo {int.__name__}.\"\n",
    "\n",
    "# Caso 4: respuesta explicita\n",
    "assert ciudades(empleados_test) != 4, \"Tu respuesta es incorrecta para una instancia diferente. Utiliza los parámetros.\"\n",
    "\n",
    "# Caso 5: Retorna el número de elementos de la columna 'Ciudad Residencia'\n",
    "assert ciudades(empleados_test) != 8, \"Tu respuesta es el número de elementos de la columna 'Ciudad Residencia'.\"\n",
    "\n",
    "# Caso 6: retorna un numero distinto del esperado\n",
    "assert ciudades(empleados_test) == 6, \"Tu respuesta es incorrecta.\"\n",
    "assert ciudades(empleados) == 4, \"Tu respuesta es incorrecta.\"\n",
    "\n",
    "# Mensaje de felicitaciones\n",
    "print(\"Felicidades, realizaste este ejercicio correctamente.\")"
   ]
  },
  {
   "cell_type": "markdown",
   "id": "29bdde97",
   "metadata": {},
   "source": [
    "### Ejercicio 4\n",
    "\n",
    "Implementa una función llamada `mayor_al_promedio` que reciba un `DataFrame` y un índice de este `DataFrame` por parámetro, y retorne `True` si el salario asociado a este índice es mayor al promedio o `False` de lo contrario.\n",
    "\n",
    "*Esta función debe retornar* `True` *o* `False` *.*"
   ]
  },
  {
   "cell_type": "code",
   "execution_count": 46,
   "id": "e185794c",
   "metadata": {},
   "outputs": [],
   "source": [
    "def mayor_al_promedio(empleados:pd.DataFrame, indice) -> bool: #true/false\n",
    "    salario = empleados.loc[indice, \"Salario (en USD)\"] # empleados.loc: filas y columnas\n",
    "    promedio = empleados[\"Salario (en USD)\"].mean() #promedio de salario\n",
    "    return bool (salario > promedio)"
   ]
  },
  {
   "cell_type": "code",
   "execution_count": 47,
   "metadata": {},
   "outputs": [
    {
     "name": "stdout",
     "output_type": "stream",
     "text": [
      "Felicidades, realizaste este ejercicio correctamente.\n"
     ]
    }
   ],
   "source": [
    "## AUTO-CALIFICADOR\n",
    "\n",
    "# Test paremters\n",
    "e1 = [ 28,\"Quito\", 2000]\n",
    "e2 = [ 37, \"Lima\", 3200 ]\n",
    "e3 = [ 22,\"Bogotá\", 1700]\n",
    "e4 = [ 35, \"Santiago\", 1100 ]\n",
    "e5 = [ 41,\"Buenos Aires\", 3900]\n",
    "e6 = [ 58, \"Lima\", 5500 ]\n",
    "e7 = [ 22,\"Brasilia\", 2100]\n",
    "e8 = [ 35, \"Bogotá\", 2500 ]\n",
    "\n",
    "empleados_test = pd.DataFrame([e1,e2, e3, e4, e5, e6, e7, e8],\n",
    "                              index=[\"Carlos\", \"David\", \"Ana\", \"Maria\", \"Felipe\", \"Luisa\", \"Juan\", \"Camila\"],\n",
    "                              columns=[\"Edad\", \"Ciudad Residencia\", \"Salario (en USD)\"])\n",
    "\n",
    "# Caso 1: no existe la función.\n",
    "try:\n",
    "    mayor_al_promedio\n",
    "    assert type(mayor_al_promedio) == type(lambda:None)\n",
    "except:\n",
    "    raise NotImplementedError(\"No existe una función llamada mayor_al_promedio.\")\n",
    "\n",
    "# Caso 2: la función es interrumpida por errores durante su ejecución.\n",
    "try:\n",
    "    mayor_al_promedio(empleados, 'Juan')\n",
    "    mayor_al_promedio(empleados_test, 'Luisa')\n",
    "except:\n",
    "    raise RuntimeError(\"Tu función produce un error al ejecutarse.\")\n",
    "\n",
    "# Caso 3: no retorna un boolean\n",
    "assert type(mayor_al_promedio(empleados_test, 'Luisa')) == type(True), f\"Tu función debe retornar un objeto de tipo {type(True).__name__}.\"\n",
    "\n",
    "# Caso 4: procedimiento incorrecto\n",
    "assert mayor_al_promedio(empleados_test, 'Luisa') != False, \"Tu respuesta es incorrecta para una instancia diferente. Utiliza los parámetros.\"\n",
    "\n",
    "# Caso 5: retorna un numero distinto del esperado\n",
    "assert mayor_al_promedio(empleados_test, 'Luisa') == True, \"Tu respuesta es incorrecta.\"\n",
    "assert mayor_al_promedio(empleados, 'Juan') == False, \"Tu respuesta es incorrecta.\"\n",
    "\n",
    "# Mensaje de felicitaciones\n",
    "print(\"Felicidades, realizaste este ejercicio correctamente.\")"
   ]
  },
  {
   "cell_type": "markdown",
   "id": "dd65eef5",
   "metadata": {},
   "source": [
    "### Ejercicio 5\n",
    "\n",
    "Implementa una función llamada `modificar` que reciba un `DataFrame` por parámetro, elimine la segunda fila, cambie el nombre de la columna 'Salario (en USD)' a 'Sueldo (en USD)' y retorne un nuevo `DataFrame` con las modificaciones realizadas.\n",
    "\n",
    "*Esta función debe retornar un* `DataFrame` *.*"
   ]
  },
  {
   "cell_type": "code",
   "execution_count": null,
   "id": "cb98f625",
   "metadata": {},
   "outputs": [],
   "source": [
    "def modificar(empleados: pd.DataFrame) -> pd.DataFrame:\n",
    "    cambio=empleados.copy() #crea una copia para no afectar dataframe\n",
    "    cambio= cambio.drop(cambio.index[1]) #elimina la segunda fila de dataframe\n",
    "    cambio= cambio.rename(columns={\"Salario (en USD)\": \"Sueldo (en USD)\"})\n",
    "    return cambio\n"
   ]
  },
  {
   "cell_type": "code",
   "execution_count": null,
   "metadata": {},
   "outputs": [],
   "source": []
  },
  {
   "cell_type": "code",
   "execution_count": 28,
   "id": "44ccfa0c",
   "metadata": {},
   "outputs": [
    {
     "name": "stdout",
     "output_type": "stream",
     "text": [
      "Felicidades, realizaste este ejercicio correctamente.\n"
     ]
    }
   ],
   "source": [
    "## AUTO-CALIFICADOR\n",
    "\n",
    "# Test paremters\n",
    "e1 = [ 28,\"Quito\", 2000]\n",
    "e2 = [ 37, \"Lima\", 3200 ]\n",
    "e3 = [ 22,\"Bogotá\", 1700]\n",
    "e4 = [ 35, \"Santiago\", 1100 ]\n",
    "e5 = [ 41,\"Buenos Aires\", 3900]\n",
    "e6 = [ 58, \"Lima\", 5500 ]\n",
    "e7 = [ 22,\"Brasilia\", 2100]\n",
    "e8 = [ 35, \"Bogotá\", 2500 ]\n",
    "\n",
    "empleados_test = pd.DataFrame([e1,e2, e3, e4, e5, e6, e7, e8],\n",
    "                              index=[\"Carlos\", \"Diego\", \"Ariel\", \"Maria\", \"Felipe\", \"Luisa\", \"Juan\", \"Camila\"],\n",
    "                              columns=[\"Edad\", \"Ciudad Residencia\", \"Salario (en USD)\"])\n",
    "\n",
    "# Caso 1: no existe la función.\n",
    "try:\n",
    "    modificar\n",
    "    assert type(modificar) == type(lambda:None)\n",
    "except:\n",
    "    raise NotImplementedError(\"No existe una función llamada modificar.\",)\n",
    "\n",
    "# Caso 2: la función es interrumpida por errores durante su ejecución.\n",
    "try:\n",
    "    modificar(empleados)\n",
    "    modificar(empleados_test)\n",
    "except:\n",
    "    raise RuntimeError(\"Tu función produce un error al ejecutarse.\")\n",
    "\n",
    "# Caso 3: no retorna un dataframe\n",
    "assert type(modificar(empleados_test)) == type(empleados_test), f\"Tu función debe retornar un objeto de tipo {type(empleados_test).__name__}.\"\n",
    "\n",
    "# Caso 4: Cambio de nombre correcto\n",
    "assert modificar(empleados_test).columns[2] == 'Sueldo (en USD)', \"Tu respuesta es incorrecta. Recuerda modificar el nombre de la columna 'Salario (en USD)'\"\n",
    "\n",
    "# Caso 5: Elimino la fila\n",
    "modificar(empleados_test).index[[1]] == 'Ariel', \"Tu respuesta es incorrecta. Recuerda eliminar la segunda fila del DataFrame.\"\n",
    "\n",
    "# Caso 6: los cambios son estrictamente correctos\n",
    "try:\n",
    "    assert modificar(empleados).columns[2] == 'Sueldo (en USD)'\n",
    "    assert modificar(empleados).index[[1]] == 'Ana'\n",
    "except AssertionError as e:\n",
    "    e.args += (\"Tu respuesta es incorrecta.\",)\n",
    "    raise e\n",
    "\n",
    "# Mensaje de felicitaciones\n",
    "print(\"Felicidades, realizaste este ejercicio correctamente.\")"
   ]
  },
  {
   "cell_type": "markdown",
   "id": "f01a57aa",
   "metadata": {},
   "source": [
    "### Ejercicio 7\n",
    "\n",
    "Implementa una función llamada `paises_por_a` que reciba un `DataFrame` por parámetro y retorne el mismo `DataFrame` con los países cuyo nombre en español inicia con la letra `\"A\"`.\n",
    "\n",
    "*Esta función debe retornar un `DataFrame`*."
   ]
  },
  {
   "cell_type": "code",
   "execution_count": 41,
   "metadata": {},
   "outputs": [],
   "source": [
    "def paises_por_a (paeises: pd.DataFrame) -> pd.DataFrame:\n",
    "    return paises[paises['País en español'].str.startswith(\"A\")]"
   ]
  },
  {
   "cell_type": "code",
   "execution_count": null,
   "id": "ec17b660",
   "metadata": {},
   "outputs": [
    {
     "name": "stdout",
     "output_type": "stream",
     "text": [
      "Felicidades, realizaste este ejercicio correctamente.\n"
     ]
    }
   ],
   "source": [
    "## AUTO-CALIFICADOR\n",
    "\n",
    "# Base variables\n",
    "paises = pd.read_csv(\"./semana 3/DiccionarioPaises.csv\", encoding = \"UTF-8\", delimiter = \";\")\n",
    "nombre_columnas = ['País en español', 'País en inglés']\n",
    "\n",
    "# Caso 1: no existe la función.\n",
    "try:\n",
    "    paises_por_a\n",
    "    assert type(paises_por_a) == type(lambda:None)\n",
    "except:\n",
    "    raise NotImplementedError(\"No existe una función llamada paises_por_a.\",)\n",
    "\n",
    "# Caso 2: la función es interrumpida por errores durante su ejecución.\n",
    "try:\n",
    "    paises_por_a(paises)\n",
    "except:\n",
    "    raise RuntimeError(\"Tu función produce un error al ejecutarse.\")\n",
    "\n",
    "# Caso 3: no retorna un dataframe.\n",
    "assert type(paises_por_a(paises)) == type(paises), f\"Tu función debe retornar un objeto de tipo {type(paises).__name__}.\"\n",
    "\n",
    "# Caso 4: devuelve un dataframe cuyas columnas tienen nombre distinto de lo esperado\n",
    "assert [*paises_por_a(paises).columns] == nombre_columnas, \"Tu función retorna un DataFrame con columnas cuyos nombres no coinciden con los de los datos del archivo. Asegurate de estar filtrando las columnas indicadas.\"\n",
    "\n",
    "# Caso 5: devuelve un dataframe con cantidad de filas errada.\n",
    "assert paises_por_a(paises).shape[0] == 13, \"Tu función retorna un DataFrame con cantidad de filas errada.\"\n",
    "\n",
    "# Caso 6: No elimina las filas correctas\n",
    "lista_a = ['Afganistán', 'Albania', 'Alemania', 'Andorra', 'Angola', 'Antigua y Barbuda', 'Arabia Saudí', 'Argelia', 'Argentina', 'Armenia', 'Australia', 'Austria', 'Azerbaiyán']\n",
    "\n",
    "assert lista_a == [*paises_por_a(paises)['País en español']], \"Tu función no elimina las filas correctas del DataFrame.\"\n",
    "\n",
    "\n",
    "# Mensaje de felicitaciones\n",
    "print(\"Felicidades, realizaste este ejercicio correctamente.\")"
   ]
  },
  {
   "cell_type": "markdown",
   "id": "2f828f1f",
   "metadata": {},
   "source": [
    "## Ejercicio 8"
   ]
  },
  {
   "cell_type": "code",
   "execution_count": null,
   "id": "47693827",
   "metadata": {},
   "outputs": [],
   "source": [
    "\n",
    "\n",
    "alfabeto = ('A', 'B', 'C', 'D', 'E', 'F', 'G', 'H', 'I',\n",
    "            'J', 'K', 'L', 'M', 'N', 'Ñ', 'O', 'P', 'Q',\n",
    "            'R', 'S', 'T', 'U', 'V', 'W', 'X', 'Y', 'Z')"
   ]
  },
  {
   "cell_type": "markdown",
   "id": "f1fef565",
   "metadata": {},
   "source": [
    "Implementa una función llamada `inicia_con` que reciba un `DataFrame` por parámetro y retorne un diccionario cuyas llaves sean las letras del abecedario y el valor de cada llave sea el número de países cuyo nombre en inglés inicia con la respectiva letra.\n",
    "\n",
    "*Esta función debe retornar un diccionario*."
   ]
  },
  {
   "cell_type": "code",
   "execution_count": 43,
   "id": "0eb37014",
   "metadata": {},
   "outputs": [],
   "source": [
    "def inicia_con(paises: pd.DataFrame) -> dict:\n",
    "    # Usa la tupla alfabeto ya definida\n",
    "    resultado = {}\n",
    "    for letra in alfabeto:\n",
    "        # Cuenta países cuyo nombre en inglés inicia con la letra\n",
    "        resultado[letra] = paises['País en inglés'].str.startswith(letra).sum()\n",
    "    return resultado"
   ]
  },
  {
   "cell_type": "code",
   "execution_count": 45,
   "id": "5de4ef96",
   "metadata": {},
   "outputs": [
    {
     "name": "stdout",
     "output_type": "stream",
     "text": [
      "Felicidades, realizaste este ejercicio correctamente.\n"
     ]
    }
   ],
   "source": [
    "## AUTO-CALIFICADOR\n",
    "\n",
    "# Base variables\n",
    "paises = pd.read_csv(\"DiccionarioPaises.csv\", encoding = \"UTF-8\", delimiter = \";\")\n",
    "nombre_columnas = ['País en español', 'País en inglés']\n",
    "alfabeto = ('A', 'B', 'C', 'D', 'E', 'F', 'G', 'H', 'I',\n",
    "            'J', 'K', 'L', 'M', 'N', 'Ñ', 'O', 'P', 'Q',\n",
    "            'R', 'S', 'T', 'U', 'V', 'W', 'X', 'Y', 'Z')\n",
    "\n",
    "# Caso 1: no existe la función.\n",
    "try:\n",
    "    inicia_con\n",
    "    assert type(inicia_con) == type(lambda:None)\n",
    "except:\n",
    "    raise NotImplementedError(\"No existe una función llamada inicia_con.\",)\n",
    "\n",
    "# Caso 2: la función es interrumpida por errores durante su ejecución.\n",
    "try:\n",
    "    inicia_con(paises)\n",
    "except:\n",
    "    raise RuntimeError(\"Tu función produce un error al ejecutarse.\")\n",
    "\n",
    "# Caso 3: no retorna un diccionario.\n",
    "assert type(inicia_con(paises)) == type({}), f\"Tu función debe retornar un objeto de tipo '{type({}).__name__}'.\"\n",
    "\n",
    "# Caso 4: Llaves son el abecedario\n",
    "assert tuple(inicia_con(paises).keys()) == alfabeto, \"Tu diccionario tiene llaves diferentes al abecedario.\"\n",
    "\n",
    "# Caso 5: Comparamos las que son iguales a cero y otros valores.\n",
    "try:\n",
    "    assert (inicia_con(paises).get('Ñ')) == 0\n",
    "    assert (inicia_con(paises).get('X')) == 0\n",
    "    assert (inicia_con(paises).get('B')) == 18\n",
    "    assert (inicia_con(paises).get('W')) == 1\n",
    "    assert (inicia_con(paises).get('S')) == 24\n",
    "\n",
    "except AssertionError as e:\n",
    "    e.args += (\"Tu respuesta es incorrecta. Revisa tu procedimiento\",)\n",
    "    raise e\n",
    "\n",
    "# Mensaje de felicitaciones\n",
    "print(\"Felicidades, realizaste este ejercicio correctamente.\")"
   ]
  }
 ],
 "metadata": {
  "kernelspec": {
   "display_name": "Python 3",
   "language": "python",
   "name": "python3"
  },
  "language_info": {
   "codemirror_mode": {
    "name": "ipython",
    "version": 3
   },
   "file_extension": ".py",
   "mimetype": "text/x-python",
   "name": "python",
   "nbconvert_exporter": "python",
   "pygments_lexer": "ipython3",
   "version": "3.11.9"
  }
 },
 "nbformat": 4,
 "nbformat_minor": 5
}

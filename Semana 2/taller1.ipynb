{
 "cells": [
  {
   "cell_type": "markdown",
   "id": "fab9fa39",
   "metadata": {},
   "source": [
    "# Ejercicio 1"
   ]
  },
  {
   "cell_type": "markdown",
   "id": "e8d586b5",
   "metadata": {},
   "source": []
  },
  {
   "cell_type": "code",
   "execution_count": 25,
   "id": "58636286",
   "metadata": {},
   "outputs": [
    {
     "name": "stdout",
     "output_type": "stream",
     "text": [
      "Felicidades, realizaste este ejercicio correctamente.\n"
     ]
    }
   ],
   "source": [
    "lista = [20, 12, 21.3, 34]\n",
    "\n",
    "\n",
    "def suma_lista(lista):\n",
    "    suma=0\n",
    "    for i in lista:\n",
    "        suma=suma+i\n",
    "    return (suma )\n",
    "\n",
    "\n",
    "\n",
    "# Base variables\n",
    "lista = [20, 12, 21.3, 34]\n",
    "lista_prueba = [23.7, 15.1, 22.2, 21, 16.1, 24, 15.9]\n",
    "\n",
    "# Caso 1: no existe la función.\n",
    "try:\n",
    "    suma_lista\n",
    "    assert type(suma_lista) == type(lambda:None)\n",
    "except:\n",
    "    raise NotImplementedError(\"No existe una función llamada suma_lista.\",)\n",
    "    \n",
    "# Caso 2: la función es interrumpida por errores durante su ejecución.\n",
    "try:\n",
    "    suma_lista(lista)\n",
    "    suma_lista(lista_prueba)\n",
    "except:\n",
    "    raise RuntimeError(\"Tu función produce un error al ejecutarse.\")\n",
    "\n",
    "# Caso 3: no retorna un número\n",
    "assert type(suma_lista(lista_prueba)) == float, f\"Tu función debe retornar un valor de tipo {float.__name__}.\"\n",
    "\n",
    "# Caso 4: respuesta explicita\n",
    "assert suma_lista(lista_prueba) != 87.3, \"Tu respuesta es incorrecta para una instancia diferente. Utiliza el parámetro.\"\n",
    "\n",
    "# Caso 5: suma elemento por elemento\n",
    "assert suma_lista(lista_prueba) >= 138.0, \"Tu función puede no estar sumando todos los elementos de la lista.\"\n",
    "\n",
    "# Caso 6: retorna un numero distinto del esperado\n",
    "assert suma_lista(lista_prueba) == 138.0, \"Tu función no retorna el valor correcto.\"\n",
    "assert suma_lista(lista) == 87.3, \"Tu función no retorna el valor correcto.\"\n",
    "\n",
    "# Mensaje de felicitaciones\n",
    "print(\"Felicidades, realizaste este ejercicio correctamente.\")\n"
   ]
  },
  {
   "cell_type": "code",
   "execution_count": null,
   "id": "6636a7db",
   "metadata": {},
   "outputs": [],
   "source": []
  },
  {
   "cell_type": "markdown",
   "id": "821fd76c",
   "metadata": {},
   "source": [
    "# Ejercicio 2"
   ]
  },
  {
   "cell_type": "markdown",
   "id": "063a2430",
   "metadata": {},
   "source": [
    "Implementa una función llamada `primera_letra` que reciba una lista de números y letras por parámetro (por ejemplo, la variable `lista`), y retorne el primer elemento que sea una letra. La función debe retornar una cadena de texto vacía (`\"\"`) si no encuentra una letra."
   ]
  },
  {
   "cell_type": "code",
   "execution_count": 26,
   "id": "dd2b4bd9",
   "metadata": {},
   "outputs": [
    {
     "name": "stdout",
     "output_type": "stream",
     "text": [
      "Felicidades, realizaste este ejercicio correctamente.\n"
     ]
    }
   ],
   "source": [
    "lista = [23, \"2\", 46 , \"l\", 8.3, \"m\"]\n",
    "\n",
    "def primera_letra(lista):\n",
    "    for elemento in lista:\n",
    "        if isinstance(elemento, str) and elemento.isalpha() and len(elemento) == 1:\n",
    "            return elemento\n",
    "    return \"\"\n",
    "\n",
    "\n",
    "# verifica tres condiciones\n",
    "# isinstancess - str: Comprueba si es una cadena de texto.\n",
    "# elemento.isalpha(): Verifica si la cadena tiene solo  letras \n",
    "# len(elemento) == 1: Verifica que la cadena tenga solo solo una letra\n",
    "# si encuentra un elemento que cumple las tres condiciones, lo retorna\n",
    "# Si termina de recorrer la lista y no encuentra ninguna letra, retorna \"\"\n",
    "\n",
    "# Base variables\n",
    "lista = [23, \"2\", 46 , \"l\", 8.3, \"m\"]\n",
    "lista_prueba = [23.7, \"15\", \"22.2\", 21, 48, \"x\", 24, 15.9, \"f\"]\n",
    "lista_prueba_2 = [23.7, \"15\", \"22.2\", 21, \"x\", 24, 15.9, \"f\"]\n",
    "lista_prueba_3 = [23.7, \"15\", \"22.2\", 21, 24, 15.9]\n",
    "\n",
    "# Caso 1: no existe la función.\n",
    "try:\n",
    "    primera_letra\n",
    "    assert type(primera_letra) == type(lambda:None)\n",
    "except:\n",
    "    raise NotImplementedError(\"No existe una función llamada primera_letra.\",)\n",
    "    \n",
    "# Caso 2: la función es interrumpida por errores durante su ejecución.\n",
    "try:\n",
    "    primera_letra(lista)\n",
    "    primera_letra(lista_prueba)\n",
    "    primera_letra(lista_prueba_2)\n",
    "    primera_letra(lista_prueba_3)\n",
    "except:\n",
    "    raise RuntimeError(\"Tu función produce un error al ejecutarse.\")\n",
    "    \n",
    "# Caso 3: no retorna una letra\n",
    "assert type(primera_letra(lista_prueba)) == str, f\"Tu función debe retornar un valor de tipo {str.__name__}.\"\n",
    "\n",
    "# Caso 4: respuesta explicita\n",
    "assert primera_letra(lista_prueba) != \"l\", \"Tu respuesta es incorrecta para para una instancia diferente. Utiliza el parámetro.\"\n",
    "\n",
    "# Caso 5: la función retorna vacio\n",
    "assert primera_letra(lista_prueba_3) == \"\", \"Tu función debe retornar una cadena de texto vacía cuando no hay una letra en la lista.\"\n",
    "\n",
    "# Caso 6: no encuentra letras.\n",
    "assert primera_letra(lista_prueba) != \"\", \"Tu función no encuentra una letra en la lista. Puede no estar explorando todos sus elementos.\"\n",
    "\n",
    "# Caso 7: retorna una letra distinta de la esperada\n",
    "assert primera_letra(lista_prueba) == \"x\", \"Tu función no retorna la letra correcta.\"\n",
    "assert primera_letra(lista) == \"l\", \"Tu función no retorna la letra correcta.\"\n",
    "\n",
    "# Mensaje de felicitaciones\n",
    "print(\"Felicidades, realizaste este ejercicio correctamente.\")\n",
    "\n",
    "\n"
   ]
  },
  {
   "cell_type": "markdown",
   "id": "e7a592de",
   "metadata": {},
   "source": [
    "# Ejercicio 3\n"
   ]
  },
  {
   "cell_type": "markdown",
   "id": "9979e4de",
   "metadata": {},
   "source": [
    "Implementa una función llamada `separar_pares_impares` que reciba una lista de números enteros por parámetro (por ejemplo, la variable `lista`) y retorne una tupla que contenga dos listas, cada una ordenada ascendentemente:\n",
    "\n",
    "* La primera lista debe contener los números pares.\n",
    "* La segunda lista debe contener los números impares."
   ]
  },
  {
   "cell_type": "code",
   "execution_count": 27,
   "id": "6e70fb9e",
   "metadata": {},
   "outputs": [
    {
     "name": "stdout",
     "output_type": "stream",
     "text": [
      "Felicidades, realizaste este ejercicio correctamente.\n"
     ]
    }
   ],
   "source": [
    "\n",
    "\n",
    "\n",
    "def separar_pares_impares(lista):\n",
    "   \n",
    "    pares = sorted([x for x in lista if x % 2 == 0])\n",
    "    impares = sorted([x for x in lista if x % 2 != 0])\n",
    "\n",
    "    return (pares,impares)\n",
    "\n",
    "    # sorted -  ordena la lista  final de menor a mayor\n",
    "    # for -  para recorrer cada num de la lista\n",
    "    # 'x' -  elemento de la lista mientras se recorre\n",
    "    # 'in lista' indica que estamos recorriendo la lista dada como parámetro\n",
    "    # '% 2 == 0 - si son pares \n",
    "\n",
    "\n",
    "# Base variables\n",
    "lista = [4, 3, 8, 5, 6, 2, 7, 5]\n",
    "lista_prueba = [3, 1, 2, 8, 6, 6, 7, 10, 9, 8]\n",
    "\n",
    "# Caso 1: no existe la función.\n",
    "try:\n",
    "    separar_pares_impares\n",
    "    assert type(separar_pares_impares) == type(lambda:None)\n",
    "except:\n",
    "    raise NotImplementedError(\"No existe una función llamada separar_pares_impares.\")\n",
    "\n",
    "# Caso 2: la función es interrumpida por errores durante su ejecución.\n",
    "try:\n",
    "    separar_pares_impares(lista)\n",
    "    separar_pares_impares(lista_prueba)\n",
    "except:\n",
    "    raise RuntimeError(\"Tu función produce un error al ejecutarse.\")\n",
    "\n",
    "# Caso 3: no retorna una tupla de listas\n",
    "assert type(separar_pares_impares(lista_prueba)) == tuple, f\"Tu función debe retornar un valor de tipo {tuple.__name__}.\"\n",
    "assert type(separar_pares_impares(lista_prueba)[0]) == list and type(separar_pares_impares(lista_prueba)[1]) == list, \"La tupla que retorna tu función debe contener una lista en su primera y segunda posicion.\"\n",
    "\n",
    "# Case 4: len(tupla) != 2\n",
    "assert len(separar_pares_impares(lista_prueba)) == len(([],[])), \"Tu función retorna una tupla de tamaño incorrecto.\"\n",
    "\n",
    "# Caso 5: respuesta explicita\n",
    "assert separar_pares_impares(lista_prueba) == ([2, 6, 6, 8, 8, 10], [1, 3, 7, 9]), \"Tu respuesta es incorrecta para para una instancia diferente. Utiliza el parámetro.\"\n",
    "\n",
    "# Caso 6: la lista de impares está ubicada antes que la lista de pares.\n",
    "assert sum([i % 2 for i in separar_pares_impares(lista_prueba)[0]]) == 0, \"La primera lista de la tupla debe contener únicamente pares.\"\n",
    "assert sum([(i + 1) % 2 for i in separar_pares_impares(lista_prueba)[1]]) == 0, \"La segunda lista de la tupla debe contener únicamente impares.\"\n",
    "\n",
    "# Caso 7: la lista de pares y la lista de impares es cada una de longitud incorrecta\n",
    "assert len(separar_pares_impares(lista_prueba)[0]) == len([2, 6, 6, 8, 8, 10]), \"La primera lista de la tupla que retorna tu función no tiene la longitud correcta.\"\n",
    "assert len(separar_pares_impares(lista_prueba)[1]) == len([1, 3, 7, 9]), \"La segunda lista de la tupla que retorna tu función no tiene la longitud correcta.\"\n",
    "\n",
    "# Caso 8: las listas son correctas, independiente de su orden\n",
    "assert set(separar_pares_impares(lista_prueba)[0]) == {2, 6, 6, 8, 8, 10}, \"La primera lista de la tupla que retorna tu función no contiene los elementos esperados, independiente de su orden.\"\n",
    "assert set(separar_pares_impares(lista_prueba)[1]) == {1, 3, 7, 9}, \"La segunda lista de la tupla que retorna tu función no contiene los elementos esperados, independiente de su orden.\"\n",
    "\n",
    "# Caso 9: las listas no están ordenadas ascendentemente\n",
    "assert separar_pares_impares(lista_prueba)[0] == [2, 6, 6, 8, 8, 10], \"La primera lista de la tupla que retorna tu función no está ordenada ascendentemente.\"\n",
    "assert separar_pares_impares(lista_prueba)[1] == [1, 3, 7, 9], \"La segunda lista de la tupla que retorna tu función no está ordenada ascendentemente.\"\n",
    "\n",
    "assert separar_pares_impares(lista)[0] == [2, 4, 6 ,8], \"La primera lista de la tupla que retorna tu función no está ordenada ascendentemente.\"\n",
    "assert separar_pares_impares(lista)[1] == [3, 5, 5, 7], \"La segunda lista de la tupla que retorna tu función no está ordenada ascendentemente.\"\n",
    "\n",
    "# Mensaje de felicitaciones\n",
    "print(\"Felicidades, realizaste este ejercicio correctamente.\")\n"
   ]
  },
  {
   "cell_type": "markdown",
   "id": "b7197798",
   "metadata": {},
   "source": [
    "# Ejercicio 4"
   ]
  },
  {
   "cell_type": "markdown",
   "id": "11a4d039",
   "metadata": {},
   "source": [
    "Implementa una función anónima que reciba un número entero por parámetro (por ejemplo, la variable `trinta`) y retorne `True` si el número es mayor a 50. Guarda la función (sin ejecutar) en una variable llamada `mayor_a_cincuenta`.\n",
    "\n",
    "*Esta función debe retornar un valor booleano* (`True` o `False`)."
   ]
  },
  {
   "cell_type": "code",
   "execution_count": 28,
   "id": "b04c6202",
   "metadata": {},
   "outputs": [
    {
     "name": "stdout",
     "output_type": "stream",
     "text": [
      "Felicidades, realizaste este ejercicio correctamente.\n"
     ]
    }
   ],
   "source": [
    "def modulo_del_minimo(lista):\n",
    "  \n",
    "    repetidos = [x for x in set(lista) if lista.count(x) > 1]\n",
    "     # buscar el menor \n",
    "    min_val_rep = min(repetidos)\n",
    "   \n",
    "    return lambda entero: min_val_rep % entero\n",
    "\n",
    "\n",
    "# set(lista) para que no cuente el mismo numero \n",
    "# lista.count(x) > 1 verifica si aparece más de una vez.\n",
    "#% si tiene residuo \n",
    "\n",
    "lista = [3, 4, 2, 5, 5, 6, 3]\n",
    "lista_prueba = [6, 7, 4, 5, 8, 12, 15, 15, 8]\n",
    "\n",
    "# Caso 1: no existe la función.\n",
    "try:\n",
    "    modulo_del_minimo\n",
    "    assert type(modulo_del_minimo) == type(lambda:None)\n",
    "except:\n",
    "    raise NotImplementedError(\"No existe una función llamada modulo_del_minimo.\")\n",
    "\n",
    "# Caso 2: la función es interrumpida por errores durante su ejecución.\n",
    "try:\n",
    "    modulo_del_minimo(lista)\n",
    "    modulo_del_minimo(lista_prueba)\n",
    "except:\n",
    "    raise RuntimeError(\"Tu función produce un error al ejecutarse.\")\n",
    "    \n",
    "# Caso 3: la función no retorna una función anónima\n",
    "try:\n",
    "    assert type(modulo_del_minimo(lista_prueba)) == type(lambda:None)\n",
    "    assert str(modulo_del_minimo(lista_prueba)).find(\"lambda\") > -1\n",
    "except:\n",
    "    raise TypeError(\"Tu función debe retornar una función anónima (de tipo lambda).\")\n",
    "    \n",
    "# Caso 4: la función anónima retornada es interrumpida por errores durante su ejecución.\n",
    "try:\n",
    "    for i in range(100):\n",
    "        modulo_del_minimo(lista)(i + 1)\n",
    "        modulo_del_minimo(lista_prueba)(i + 1)\n",
    "except:\n",
    "    raise RuntimeError(\"Se produce un error al ejecutar la función anónima que retorna tu función.\")\n",
    "    \n",
    "# Caso 5: la función anónima retornada retorna algo distinto de un entero.\n",
    "assert type(modulo_del_minimo(lista_prueba)(7)) == int, f\"La función anónima que retorna tu función debería retornar un valor de tipo {type(0)}.\"\n",
    "    \n",
    "# Caso 6: el sentido del cálculo del residuo es incorrecto.\n",
    "try:\n",
    "    assert modulo_del_minimo(lista_prueba)(0) != 0\n",
    "except AssertionError as e:\n",
    "    raise ArithmeticError(\"La función anónima que retorna tu función calcula el residuo de la división de manera incorrecta. Prueba cambiar el orden de los elementos alrededor del operador '%'\",)\n",
    "except ZeroDivisionError as e:\n",
    "    pass\n",
    "    \n",
    "# Caso 7: no identifica el menor elemento que se repite correctamente.\n",
    "try:\n",
    "    assert modulo_del_minimo(lista)(float(\"inf\")) == 3\n",
    "    assert modulo_del_minimo(lista_prueba)(float(\"inf\")) == 8\n",
    "except AssertionError as e:\n",
    "    e.args += (\"La función anónima que retorna tu función utiliza un valor inesperado en lugar del mínimo valor repetido en la lista.\",)\n",
    "    raise e\n",
    "    \n",
    "# Caso 8: diversos casos\n",
    "try:\n",
    "    assert modulo_del_minimo(lista_prueba)(4) == 0\n",
    "    assert modulo_del_minimo(lista_prueba)(5) == 3\n",
    "    assert modulo_del_minimo(lista_prueba)(8) == 0\n",
    "    assert modulo_del_minimo(lista_prueba)(15) == 8\n",
    "    assert modulo_del_minimo(lista)(3) == 0\n",
    "    assert modulo_del_minimo(lista)(5) == 3\n",
    "except AssertionError as e:\n",
    "    e.args += (\"Tu función retorna una función anónima incorrecta.\",)\n",
    "    raise e\n",
    "    \n",
    "# Mensaje de felicitaciones\n",
    "print(\"Felicidades, realizaste este ejercicio correctamente.\")"
   ]
  },
  {
   "cell_type": "markdown",
   "id": "425742b1",
   "metadata": {},
   "source": []
  }
 ],
 "metadata": {
  "kernelspec": {
   "display_name": "Python 3",
   "language": "python",
   "name": "python3"
  },
  "language_info": {
   "codemirror_mode": {
    "name": "ipython",
    "version": 3
   },
   "file_extension": ".py",
   "mimetype": "text/x-python",
   "name": "python",
   "nbconvert_exporter": "python",
   "pygments_lexer": "ipython3",
   "version": "3.11.9"
  }
 },
 "nbformat": 4,
 "nbformat_minor": 5
}

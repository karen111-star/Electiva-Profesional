{
 "cells": [
  {
   "cell_type": "markdown",
   "id": "94fb1de1",
   "metadata": {},
   "source": [
    "## Ejercicio 1\n",
    "Implementa una función llamada `sustituir` que reciba por parámetro una cadena de texto (por ejemplo, la variable `cadena`) y retorne otra cadena en la cual se intercambien el segundo caracter y el penúltimo caracter."
   ]
  },
  {
   "cell_type": "code",
   "execution_count": 11,
   "id": "f414202b",
   "metadata": {},
   "outputs": [
    {
     "name": "stdout",
     "output_type": "stream",
     "text": [
      "Felicidades, realizaste este ejercicio correctamente.\n"
     ]
    }
   ],
   "source": [
    "\n",
    "\n",
    "def sustituir(cadena):\n",
    "    # Si la cadena tiene menos de 2 caracteres, retorna la misma cadena\n",
    "    if len(cadena) < 2:\n",
    "        return cadena\n",
    "    # Convierte la cadena en una lista \n",
    "    lista = list(cadena)\n",
    "    # Intercambia el segundo caracter índice 1 con el penúltimo ndice -2\n",
    "    lista[1], lista[-2] = lista[-2], lista[1]\n",
    "    # une la lista de nuevo en una cadena y la retorna\n",
    "    return ''.join(lista)\n",
    "\n",
    "# Base variables\n",
    "cadena = \"Archivos de texto\"\n",
    "cadena_prueba = \"Una cadena con mayor cantidad de caracteres\"\n",
    "\n",
    "# Caso 1: no existe la función.\n",
    "try:\n",
    "    sustituir\n",
    "    assert type(sustituir) == type(lambda:None)\n",
    "except:\n",
    "    raise NotImplementedError(\"No existe una función llamada sustituir.\",)\n",
    "    \n",
    "# Caso 2: la función es interrumpida por errores durante su ejecución.\n",
    "try:\n",
    "    sustituir(cadena)\n",
    "    sustituir(cadena_prueba)\n",
    "except:\n",
    "    raise RuntimeError(\"Tu función produce un error al ejecutarse.\")\n",
    "\n",
    "# Caso 3: no retorna una cadena\n",
    "assert type(sustituir(cadena_prueba)) == str, f\"Tu función debe retornar un valor de tipo {str.__name__}.\"\n",
    "\n",
    "# Caso 4: respuesta explicita\n",
    "assert sustituir(cadena_prueba) != \"Atchivos de texro\", \"Tu respuesta es incorrecta para una instancia diferente. Utiliza el parámetro.\"\n",
    "\n",
    "# Caso 5: retorna la misma cadena\n",
    "assert sustituir(cadena_prueba) != cadena_prueba, \"Tu función retorna la misma cadena que recibe por parámetro sin alterar.\"\n",
    "\n",
    "# Caso 6: devuelve una cadena de longitud errada\n",
    "assert len(sustituir(cadena_prueba)) == len(cadena_prueba), \"Tu función puede no estar tomando en cuenta todos los caracteres de la cadena que recibe por parámetro.\"\n",
    "\n",
    "# Caso 7: asigna el mismo valor a ambas posiciones\n",
    "assert sustituir(cadena_prueba)[1] != sustituir(cadena_prueba)[-2], \"Tu función asigna el mismo caracter en las posiciones segunda y penúltima.\"\n",
    "\n",
    "# Caso 8: confunde indexación iniciada en cero\n",
    "assert sustituir(cadena_prueba)[2] != \"s\", \"Tu función una posición que no debería. Recuerda que en Python la indexación inicia en 0\"\n",
    "\n",
    "# Caso 9: retorna una cadena distinta de la esperada\n",
    "assert sustituir(cadena_prueba) == \"Uea cadena con mayor cantidad de caracterns\", \"Tu función no retorna la cadena correcta.\"\n",
    "assert sustituir(cadena) == \"Atchivos de texro\", \"Tu función no retorna la cadena correcta.\"\n",
    "\n",
    "# Mensaje de felicitaciones\n",
    "print(\"Felicidades, realizaste este ejercicio correctamente.\")"
   ]
  },
  {
   "cell_type": "markdown",
   "id": "7d7e9d0a",
   "metadata": {},
   "source": [
    "## Ejercicio 2"
   ]
  },
  {
   "cell_type": "code",
   "execution_count": 12,
   "id": "c908745b",
   "metadata": {},
   "outputs": [],
   "source": [
    "\n",
    "def archivo_a_lista(directorio):\n",
    "    # Abre el archivo en modo lectura usando la ruta recibida por parámetro\n",
    "    with open(directorio, 'r', encoding='utf-8') as archivo:\n",
    "        # Lee todas las líneas del archivo y las retorna como una lista\n",
    "        lineas = archivo.readlines()\n",
    "        return lineas\n",
    "\n",
    "\n",
    "\n"
   ]
  },
  {
   "cell_type": "code",
   "execution_count": 13,
   "id": "48b84f4b",
   "metadata": {},
   "outputs": [
    {
     "ename": "SyntaxError",
     "evalue": "invalid syntax. Perhaps you forgot a comma? (265649943.py, line 26)",
     "output_type": "error",
     "traceback": [
      "  \u001b[36mCell\u001b[39m\u001b[36m \u001b[39m\u001b[32mIn[13]\u001b[39m\u001b[32m, line 26\u001b[39m\n\u001b[31m    \u001b[39m\u001b[31m...\u001b[39m\n    ^\n\u001b[31mSyntaxError\u001b[39m\u001b[31m:\u001b[39m invalid syntax. Perhaps you forgot a comma?\n"
     ]
    }
   ],
   "source": [
    "\n",
    "['Principales tenedores de títulos del tesoro americano en lo que se lleva del 2020\\n',\n",
    " 'País\\tJulio\\tJunio\\tMayo\\tAbril\\tMarzo\\tFebrero\\tEnero\\t\\n',\n",
    " 'Japón\\t1261.5\\t1260.4\\t1266.5\\t1272.6\\t1268.6\\t1211.8\\t1155.2\\t\\n',\n",
    " 'China\\t1074.4\\t1083.7\\t1072.8\\t1081.6\\t1092.3\\t1078.6\\t1069.9\\t\\n',\n",
    " 'Reino Unido\\t445.6\\t445.8\\t429.2\\t469.7\\t477.1\\t450.3\\t392.1\\t\\n',\n",
    " 'Irlanda\\t330.4\\t324.2\\t301.3\\t271.6\\t282.8\\t271.7\\t281.9\\t\\n',\n",
    " 'Hong kong\\t266.4\\t269.0\\t259.4\\t256.0\\t268.4\\t253.0\\t249.7\\t\\n',\n",
    " 'Brasil\\t264.1\\t264.4\\t259.5\\t264.4\\t285.9\\t283.3\\t281.8\\t\\n',\n",
    " 'Luxemburgo\\t267.6\\t262.7\\t265.5\\t246.1\\t260.8\\t255.2\\t254.6\\t\\n',\n",
    " 'Suiza\\t247.4\\t243.1\\t241.3\\t244.6\\t243.7\\t238.1\\t237.5\\t\\n',\n",
    " 'Islas Caimán\\t222.0\\t216.7\\t213.1\\t209.4\\t228.2\\t225.1\\t238.2\\t\\n',\n",
    " 'Bélgica\\t218.7\\t212.1\\t210.2\\t206.1\\t218.0\\t206.5\\t207.4\\t\\n',\n",
    " 'Taiwán\\t204.6\\t199.2\\t201.7\\t205.0\\t201.9\\t199.2\\t193.1\\t\\n',\n",
    " 'la India\\t182.7\\t169.9\\t157.4\\t156.5\\t177.5\\t164.3\\t162.0\\t\\n',\n",
    " 'Singapur\\t150.5\\t142.1\\t146.1\\t151.5\\t165.4\\t160.7\\t147.9\\t\\n',\n",
    " 'Canadá\\t127.5\\t129.9\\t136.3\\t131.5\\t148.3\\t157.9\\t143.3\\t\\n',\n",
    " 'Francia\\t144.2\\t130.5\\t137.7\\t156.0\\t147.6\\t134.0\\t127.7\\t\\n',\n",
    " 'Arabia Saudí\\t124.9\\t123.5\\t125.3\\t159.1\\t184.4\\t182.9\\t179.8\\t\\n',\n",
    " 'Corea del Sur\\t122.7\\t117.3\\t120.0\\t110.8\\t116.1\\t121.1\\t121.9\\t\\n',\n",
    " 'Noruega\\t89.5\\t87.6\\t93.2\\t98.0\\t103.3\\t97.7\\t90.1\\t\\n',\n",
    " 'Tailandia\\t85.5\\t85.8\\t80.5\\t81.8\\t91.3\\t96.0\\t90.5\\t\\n',\n",
    " 'Alemania\\t79.5\\t80.6\\t77.7\\t77.3\\t86.0\\t83.7\\t78.3\\t\\n',\n",
    " 'los Países Bajos\\t69.4\\t67.9\\t66.2\\t69.1\\t70.9\\t67.7\\t65.1\\t\\n',\n",
    " 'Bermudas\\t66.8\\t63.9\\t65.5\\t64.2\\t65.9\\t64.8\\t71.3\\t\\n',\n",
    " 'Israel\\t47.6\\t46.8\\t43.2\\t41.1\\t45.1\\t45.6\\t43.1\\t\\n',\n",
    "...\n",
    " 'Polonia\\t39.7\\t38.0\\t34.4\\t35.6\\t38.8\\t37.7\\t38.8\\t\\n',\n",
    " 'España\\t44.0\\t47.3\\t44.0\\t43.8\\t46.2\\t43.9\\t50.4\\t\\n',\n",
    " 'Suecia\\t39.1\\t37.1\\t36.5\\t39.5\\t45.4\\t45.0\\t48.7\\t\\n',\n",
    " 'Chile\\t29.8\\t30.1\\t29.8\\t30.1\\t32.0\\t32.5\\t30.8\\t\\n',\n",
    " 'Todos los demas\\t595.2\\t572.5\\t580.0\\t570.2\\t561.0\\t611.0\\t601.0\\t582.7\\t589.1\\t589.6\\t586.3\\t613.8\\t580.1\\t\\n']\n",
    "Output is truncated. View as a scrollable element or open in a text editor. Adjust cell output settings..."
   ]
  },
  {
   "cell_type": "code",
   "execution_count": 14,
   "id": "156fe491",
   "metadata": {},
   "outputs": [
    {
     "ename": "AssertionError",
     "evalue": "Tu función retorna una lista vacía, cuando debería devolver una lista con las filas del archivo .txt",
     "output_type": "error",
     "traceback": [
      "\u001b[31m---------------------------------------------------------------------------\u001b[39m",
      "\u001b[31mAssertionError\u001b[39m                            Traceback (most recent call last)",
      "\u001b[36mCell\u001b[39m\u001b[36m \u001b[39m\u001b[32mIn[14]\u001b[39m\u001b[32m, line 25\u001b[39m\n\u001b[32m     22\u001b[39m \u001b[38;5;28;01massert\u001b[39;00m \u001b[38;5;28mtype\u001b[39m(archivo_a_lista(directorio_prueba)) == \u001b[38;5;28mlist\u001b[39m, \u001b[33mf\u001b[39m\u001b[33m\"\u001b[39m\u001b[33mTu función debe retornar un valor de tipo \u001b[39m\u001b[38;5;132;01m{\u001b[39;00m\u001b[38;5;28mlist\u001b[39m.\u001b[34m__name__\u001b[39m\u001b[38;5;132;01m}\u001b[39;00m\u001b[33m.\u001b[39m\u001b[33m\"\u001b[39m\n\u001b[32m     24\u001b[39m \u001b[38;5;66;03m# Caso 4: retorna una lista vacía\u001b[39;00m\n\u001b[32m---> \u001b[39m\u001b[32m25\u001b[39m \u001b[38;5;28;01massert\u001b[39;00m \u001b[38;5;28mlen\u001b[39m(archivo_a_lista(directorio_prueba)) != \u001b[32m0\u001b[39m, \u001b[33m\"\u001b[39m\u001b[33mTu función retorna una lista vacía, cuando debería devolver una lista con las filas del archivo .txt\u001b[39m\u001b[33m\"\u001b[39m\n\u001b[32m     27\u001b[39m \u001b[38;5;66;03m# Caso 5: respuesta explicita\u001b[39;00m\n\u001b[32m     28\u001b[39m \u001b[38;5;28;01massert\u001b[39;00m archivo_a_lista(directorio_prueba)[\u001b[32m0\u001b[39m] != \u001b[33m\"\u001b[39m\u001b[33mPrincipales tenedores de títulos del tesoro americano en lo que se lleva del 2020\u001b[39m\u001b[38;5;130;01m\\n\u001b[39;00m\u001b[33m\"\u001b[39m, \u001b[33m\"\u001b[39m\u001b[33mTu respuesta es incorrecta para una instancia diferente. Asegurate de utilizar el parámetro.\u001b[39m\u001b[33m\"\u001b[39m\n",
      "\u001b[31mAssertionError\u001b[39m: Tu función retorna una lista vacía, cuando debería devolver una lista con las filas del archivo .txt"
     ]
    }
   ],
   "source": [
    "\n",
    "\n",
    "## AUTO-CALIFICADOR\n",
    "\n",
    "# Base variables\n",
    "directorio = \"./Archivos/tesoro.txt\"\n",
    "directorio_prueba = \"./Archivos/tesoro_2.txt\"\n",
    "\n",
    "# Caso 1: no existe la función.\n",
    "try:\n",
    "    archivo_a_lista\n",
    "    assert type(archivo_a_lista) == type(lambda:None)\n",
    "except:\n",
    "    raise NotImplementedError(\"No existe una función llamada archivo_a_lista.\",)\n",
    "    \n",
    "# Caso 2: la función es interrumpida por errores durante su ejecución.\n",
    "try:\n",
    "    archivo_a_lista(directorio)\n",
    "    archivo_a_lista(directorio_prueba)\n",
    "except:\n",
    "    raise RuntimeError(\"Tu función produce un error al ejecutarse. Asegurate de que estés usando una dirección relativa a la ubicación de este notebook.\")\n",
    "\n",
    "# Caso 3: no retorna una lista\n",
    "assert type(archivo_a_lista(directorio_prueba)) == list, f\"Tu función debe retornar un valor de tipo {list.__name__}.\"\n",
    "\n",
    "# Caso 4: retorna una lista vacía\n",
    "assert len(archivo_a_lista(directorio_prueba)) != 0, \"Tu función retorna una lista vacía, cuando debería devolver una lista con las filas del archivo .txt\"\n",
    "\n",
    "# Caso 5: respuesta explicita\n",
    "assert archivo_a_lista(directorio_prueba)[0] != \"Principales tenedores de títulos del tesoro americano en lo que se lleva del 2020\\n\", \"Tu respuesta es incorrecta para una instancia diferente. Asegurate de utilizar el parámetro.\"\n",
    "assert archivo_a_lista(directorio)[0] != 'Estimado estudiante.\\n', \"Tu respuesta es incorrecta para una instancia diferente. Asegurate de utilizar el parámetro.\"\n",
    "\n",
    "# Caso 7: devuelve una lista de longitud errada\n",
    "assert len(archivo_a_lista(directorio_prueba)) == 8, \"Tu función puede no estar tomando en cuenta todas las filas del archivo de texto deseado.\"\n",
    "\n",
    "# Caso 8: la lista es incorrecta\n",
    "resultado_prueba = ['Estimado estudiante.\\n',\n",
    "                    '\\n',\n",
    "                    'Este archivo de texto es para uso exclusivo del auto-calificador.\\n',\n",
    "                    'Evite borrar, mover o editar de cualquier forma su contenido.\\n',\n",
    "                    '\\n',\n",
    "                    '\\n',\n",
    "                    'Agradecemos su colaboración,\\n',\n",
    "                    'Equipo de Laboratorio Computacional de Analytics.\\n']\n",
    "\n",
    "assert archivo_a_lista(directorio_prueba) == resultado_prueba, \"Tu función devuelve una lista errada.\"\n",
    "\n",
    "# Mensaje de felicitaciones\n",
    "print(\"Felicidades, realizaste este ejercicio correctamente.\")"
   ]
  },
  {
   "cell_type": "markdown",
   "id": "957361bd",
   "metadata": {},
   "source": []
  }
 ],
 "metadata": {
  "kernelspec": {
   "display_name": "Python 3",
   "language": "python",
   "name": "python3"
  },
  "language_info": {
   "codemirror_mode": {
    "name": "ipython",
    "version": 3
   },
   "file_extension": ".py",
   "mimetype": "text/x-python",
   "name": "python",
   "nbconvert_exporter": "python",
   "pygments_lexer": "ipython3",
   "version": "3.11.9"
  }
 },
 "nbformat": 4,
 "nbformat_minor": 5
}

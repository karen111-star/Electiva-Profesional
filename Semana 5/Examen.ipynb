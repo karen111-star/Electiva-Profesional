{
 "cells": [
  {
   "cell_type": "markdown",
   "id": "c57cfe42",
   "metadata": {},
   "source": [
    "## Fase 1: obtener e inspeccionar archivos"
   ]
  },
  {
   "cell_type": "markdown",
   "id": "7423dbd4",
   "metadata": {},
   "source": [
    "En esta fase te harás una idea general del contenido de los datos y generarás un reporte al respecto (ej., imprimiendo mensajes, presentando tablas de resumen, etc.). Además, seleccionarás un segmento de los datos que consideres útil para realizar tu análisis."
   ]
  },
  {
   "cell_type": "markdown",
   "id": "4927dba9",
   "metadata": {},
   "source": [
    "Pautas generales:a\n",
    "\n",
    "* Utilizar una librería especializada para leer los archivos de datos y agregarlos según sea necesario (ej., utilizando los métodos `append` o `concat` si eliges cargarlos utilizando la librería `pandas`).\n",
    "* Inspeccionar el archivo a partir de sus encabezados, columnas y descripciones de las variables según su tipo (ej., numéricas, categóricas).\n",
    "* Declarar una estructura de datos (ej., una lista) para almacenar un subconjunto de variables que puedan ser relevantes para la problemática de interés."
   ]
  },
  {
   "cell_type": "markdown",
   "id": "f4237c11",
   "metadata": {},
   "source": [
    "Preguntas guía:\n",
    "\n",
    "* ¿Qué dimensiones tienen los datos?\n",
    "* ¿Con cuántos años y periodos de evaluación se cuenta?\n",
    "* ¿Cuáles variables pueden ser de interés para la problemática planteada?\n",
    "* ¿Qué porcentaje de datos faltantes o no válidos hay en las columnas de interés? ¿Qué planteas para manejarlos?"
   ]
  },
  {
   "cell_type": "code",
   "execution_count": 7,
   "id": "7e973be3",
   "metadata": {},
   "outputs": [
    {
     "name": "stdout",
     "output_type": "stream",
     "text": [
      " ----- Distribucion de estudiantes por calendario ----\n",
      "COLE_CALENDARIO\n",
      "B       11865\n",
      "A        3055\n",
      "OTRO      515\n",
      "Name: count, dtype: int64\n",
      " ----- Promedios generales por calendario ----\n",
      "                 PUNT_LECTURA_CRITICA  PUNT_MATEMATICAS  PUNT_C_NATURALES  \\\n",
      "COLE_CALENDARIO                                                             \n",
      "A                           49.281833         46.678560         44.823241   \n",
      "B                           62.253434         62.178845         59.378930   \n",
      "OTRO                        50.759223         47.547573         46.409709   \n",
      "\n",
      "                 PUNT_SOCIALES_CIUDADANAS  PUNT_INGLES  PUNT_GLOBAL  \n",
      "COLE_CALENDARIO                                                      \n",
      "A                               44.028478    45.982612   230.928314  \n",
      "B                               58.510746    70.511406   306.692120  \n",
      "OTRO                            45.883495    49.351456   238.895146  \n",
      " ----- Estadísticas especificas por promedio, min, max ----\n",
      "                PUNT_LECTURA_CRITICA                                          \\\n",
      "                               count       mean        std   min   25%   50%   \n",
      "COLE_CALENDARIO                                                                \n",
      "A                             3055.0  49.281833  10.204336   0.0  42.0  49.0   \n",
      "B                            11865.0  62.253434  10.307473  25.0  56.0  63.0   \n",
      "OTRO                           515.0  50.759223   9.986970  23.0  44.0  51.0   \n",
      "\n",
      "                             PUNT_MATEMATICAS             ... PUNT_INGLES  \\\n",
      "                  75%    max            count       mean  ...         75%   \n",
      "COLE_CALENDARIO                                           ...               \n",
      "A                56.0  100.0           3055.0  46.678560  ...        54.0   \n",
      "B                69.0  100.0          11865.0  62.178845  ...        80.0   \n",
      "OTRO             58.0   77.0            515.0  47.547573  ...        58.0   \n",
      "\n",
      "                       PUNT_GLOBAL                                       \\\n",
      "                   max       count        mean        std    min    25%   \n",
      "COLE_CALENDARIO                                                           \n",
      "A                100.0      3055.0  230.928314  46.981323    0.0  195.5   \n",
      "B                100.0     11865.0  306.692120  52.570300  123.0  272.0   \n",
      "OTRO             100.0       515.0  238.895146  49.958705  142.0  201.0   \n",
      "\n",
      "                                      \n",
      "                   50%    75%    max  \n",
      "COLE_CALENDARIO                       \n",
      "A                228.0  263.0  397.0  \n",
      "B                313.0  345.0  479.0  \n",
      "OTRO             235.0  272.0  393.0  \n",
      "\n",
      "[3 rows x 48 columns]\n"
     ]
    }
   ],
   "source": [
    "import pandas as pd\n",
    "\n",
    "# datos\n",
    "file_path = \"Saber_11°_2020-1_20250914.csv\"\n",
    "df = pd.read_csv(file_path, low_memory=False)\n",
    "\n",
    "\n",
    "# Variable , Calendario + puntajes principales\n",
    "cols_interes = [\n",
    "    \"COLE_CALENDARIO\",\n",
    "    \"PUNT_LECTURA_CRITICA\",\n",
    "    \"PUNT_MATEMATICAS\",\n",
    "    \"PUNT_C_NATURALES\",\n",
    "    \"PUNT_SOCIALES_CIUDADANAS\",\n",
    "    \"PUNT_INGLES\",\n",
    "    \"PUNT_GLOBAL\"\n",
    "]\n",
    "df = df[cols_interes]\n",
    "\n",
    "\n",
    "# Quitar filas sin información de calendario\n",
    "df = df.dropna(subset=[\"COLE_CALENDARIO\"])\n",
    "\n",
    "#estadísticas \n",
    "print(\" ----- Distribucion de estudiantes por calendario ----\")\n",
    "print(df[\"COLE_CALENDARIO\"].value_counts())\n",
    "\n",
    "print(\" ----- Promedios generales por calendario ----\")\n",
    "print(df.groupby(\"COLE_CALENDARIO\").mean(numeric_only=True))\n",
    "\n",
    "# promedios\n",
    "print(\" ----- Estadísticas especificas por promedio, min, max ----\")\n",
    "print(df.groupby(\"COLE_CALENDARIO\").describe())\n"
   ]
  }
 ],
 "metadata": {
  "kernelspec": {
   "display_name": "Python 3",
   "language": "python",
   "name": "python3"
  },
  "language_info": {
   "codemirror_mode": {
    "name": "ipython",
    "version": 3
   },
   "file_extension": ".py",
   "mimetype": "text/x-python",
   "name": "python",
   "nbconvert_exporter": "python",
   "pygments_lexer": "ipython3",
   "version": "3.11.9"
  }
 },
 "nbformat": 4,
 "nbformat_minor": 5
}

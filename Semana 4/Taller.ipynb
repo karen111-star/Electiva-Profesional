{
 "cells": [
  {
   "cell_type": "markdown",
   "id": "a912976b",
   "metadata": {},
   "source": [
    "### Ejercicio 1\n",
    "\n",
    "A continuación, encuentras un archivo de Excel con el cual podrás probar tu solución."
   ]
  },
  {
   "cell_type": "code",
   "execution_count": 1,
   "id": "fe8da63d",
   "metadata": {},
   "outputs": [],
   "source": [
    "import numpy as np\n",
    "import pandas as pd\n",
    "from sklearn.model_selection import train_test_split\n",
    "from sklearn.linear_model import LinearRegression"
   ]
  },
  {
   "cell_type": "code",
   "execution_count": 2,
   "id": "35b880ab",
   "metadata": {},
   "outputs": [
    {
     "data": {
      "text/html": [
       "<div>\n",
       "<style scoped>\n",
       "    .dataframe tbody tr th:only-of-type {\n",
       "        vertical-align: middle;\n",
       "    }\n",
       "\n",
       "    .dataframe tbody tr th {\n",
       "        vertical-align: top;\n",
       "    }\n",
       "\n",
       "    .dataframe thead th {\n",
       "        text-align: right;\n",
       "    }\n",
       "</style>\n",
       "<table border=\"1\" class=\"dataframe\">\n",
       "  <thead>\n",
       "    <tr style=\"text-align: right;\">\n",
       "      <th></th>\n",
       "      <th>y</th>\n",
       "      <th>x1</th>\n",
       "      <th>x2</th>\n",
       "      <th>x3</th>\n",
       "    </tr>\n",
       "  </thead>\n",
       "  <tbody>\n",
       "    <tr>\n",
       "      <th>0</th>\n",
       "      <td>9</td>\n",
       "      <td>6</td>\n",
       "      <td>3</td>\n",
       "      <td>22</td>\n",
       "    </tr>\n",
       "    <tr>\n",
       "      <th>1</th>\n",
       "      <td>1</td>\n",
       "      <td>8</td>\n",
       "      <td>1</td>\n",
       "      <td>35</td>\n",
       "    </tr>\n",
       "    <tr>\n",
       "      <th>2</th>\n",
       "      <td>5</td>\n",
       "      <td>6</td>\n",
       "      <td>2</td>\n",
       "      <td>41</td>\n",
       "    </tr>\n",
       "    <tr>\n",
       "      <th>3</th>\n",
       "      <td>3</td>\n",
       "      <td>4</td>\n",
       "      <td>2</td>\n",
       "      <td>3</td>\n",
       "    </tr>\n",
       "    <tr>\n",
       "      <th>4</th>\n",
       "      <td>9</td>\n",
       "      <td>5</td>\n",
       "      <td>1</td>\n",
       "      <td>18</td>\n",
       "    </tr>\n",
       "    <tr>\n",
       "      <th>5</th>\n",
       "      <td>9</td>\n",
       "      <td>7</td>\n",
       "      <td>4</td>\n",
       "      <td>18</td>\n",
       "    </tr>\n",
       "    <tr>\n",
       "      <th>6</th>\n",
       "      <td>6</td>\n",
       "      <td>8</td>\n",
       "      <td>5</td>\n",
       "      <td>9</td>\n",
       "    </tr>\n",
       "    <tr>\n",
       "      <th>7</th>\n",
       "      <td>4</td>\n",
       "      <td>7</td>\n",
       "      <td>5</td>\n",
       "      <td>30</td>\n",
       "    </tr>\n",
       "    <tr>\n",
       "      <th>8</th>\n",
       "      <td>2</td>\n",
       "      <td>6</td>\n",
       "      <td>3</td>\n",
       "      <td>16</td>\n",
       "    </tr>\n",
       "    <tr>\n",
       "      <th>9</th>\n",
       "      <td>10</td>\n",
       "      <td>7</td>\n",
       "      <td>5</td>\n",
       "      <td>47</td>\n",
       "    </tr>\n",
       "    <tr>\n",
       "      <th>10</th>\n",
       "      <td>3</td>\n",
       "      <td>6</td>\n",
       "      <td>4</td>\n",
       "      <td>50</td>\n",
       "    </tr>\n",
       "    <tr>\n",
       "      <th>11</th>\n",
       "      <td>7</td>\n",
       "      <td>5</td>\n",
       "      <td>4</td>\n",
       "      <td>11</td>\n",
       "    </tr>\n",
       "    <tr>\n",
       "      <th>12</th>\n",
       "      <td>6</td>\n",
       "      <td>3</td>\n",
       "      <td>4</td>\n",
       "      <td>42</td>\n",
       "    </tr>\n",
       "    <tr>\n",
       "      <th>13</th>\n",
       "      <td>8</td>\n",
       "      <td>5</td>\n",
       "      <td>4</td>\n",
       "      <td>1</td>\n",
       "    </tr>\n",
       "  </tbody>\n",
       "</table>\n",
       "</div>"
      ],
      "text/plain": [
       "     y  x1  x2  x3\n",
       "0    9   6   3  22\n",
       "1    1   8   1  35\n",
       "2    5   6   2  41\n",
       "3    3   4   2   3\n",
       "4    9   5   1  18\n",
       "5    9   7   4  18\n",
       "6    6   8   5   9\n",
       "7    4   7   5  30\n",
       "8    2   6   3  16\n",
       "9   10   7   5  47\n",
       "10   3   6   4  50\n",
       "11   7   5   4  11\n",
       "12   6   3   4  42\n",
       "13   8   5   4   1"
      ]
     },
     "execution_count": 2,
     "metadata": {},
     "output_type": "execute_result"
    }
   ],
   "source": [
    "archivo = pd.read_excel(\"datosTaller.xlsx\")\n",
    "archivo"
   ]
  },
  {
   "cell_type": "markdown",
   "id": "7840cb82",
   "metadata": {},
   "source": [
    "Implementa una función llamada `dividir_datos` que reciba un `DataFrame` por parámetro y retorne dos `DataFrame` contenidos en una tupla de la forma ($X$, $y$), donde $X$ es un `DataFrame` cuyas columnas son las variables independientes y $y$ es un `Series` con la variable de respuesta.\n",
    "\n",
    "**Nota:** la variable de respuesta se encuentra en la primera columna de los datos.\n",
    "\n",
    "*Esta función debe retornar una tupla de la forma ($X$, $y$) donde $X$ es un `DataFrame` y $y$ un `Series`*"
   ]
  },
  {
   "cell_type": "code",
   "execution_count": 3,
   "id": "827cd14a",
   "metadata": {},
   "outputs": [],
   "source": [
    "def dividir_datos(df: pd.DataFrame) -> tuple:\n",
    "    y = df.iloc[:, 0]        \n",
    "    X = df.iloc[:, 1:]          # variables independientes\n",
    "    return (X, y)"
   ]
  },
  {
   "cell_type": "code",
   "execution_count": 4,
   "id": "e472146d",
   "metadata": {},
   "outputs": [
    {
     "name": "stdout",
     "output_type": "stream",
     "text": [
      "Felicidades, realizaste este ejercicio correctamente.\n"
     ]
    },
    {
     "name": "stderr",
     "output_type": "stream",
     "text": [
      "C:\\Users\\Miguel\\AppData\\Local\\Temp\\ipykernel_11736\\3084319104.py:38: FutureWarning: Series.__getitem__ treating keys as positions is deprecated. In a future version, integer keys will always be treated as labels (consistent with DataFrame behavior). To access a value by position, use `ser.iloc[pos]`\n",
      "  npt.assert_approx_equal(dividir_datos(archivo)[0].mean()[1], 3.357142857142857)\n",
      "C:\\Users\\Miguel\\AppData\\Local\\Temp\\ipykernel_11736\\3084319104.py:48: FutureWarning: Series.__getitem__ treating keys as positions is deprecated. In a future version, integer keys will always be treated as labels (consistent with DataFrame behavior). To access a value by position, use `ser.iloc[pos]`\n",
      "  assert dividir_datos(archivo_test)[0].mean()[1] == 294.9 and dividir_datos(archivo_test)[0].iloc[5,3] == 21, \"Tu respuesta para X es incorrecta para una instancia diferente de los datos.\"\n"
     ]
    }
   ],
   "source": [
    "## AUTO-CALIFICADOR\n",
    "\n",
    "# Base variables\n",
    "import numpy.testing as npt\n",
    "archivo = pd.read_excel(\"datosTaller.xlsx\")\n",
    "archivo_test = pd.read_excel(\"datosTallerTest.xlsx\")\n",
    "\n",
    "# Caso 1: no existe la función.\n",
    "try:\n",
    "    dividir_datos\n",
    "    assert type(dividir_datos) == type(lambda:None)\n",
    "except:\n",
    "    raise NotImplementedError(\"No existe una función llamada dividir_datos.\",)\n",
    "    \n",
    "# Caso 2: la función es interrumpida por errores durante su ejecución.\n",
    "try:\n",
    "    dividir_datos(archivo)\n",
    "    dividir_datos(archivo_test)\n",
    "except:\n",
    "    raise RuntimeError(\"Tu función produce un error al ejecutarse.\")\n",
    "\n",
    "# Caso 3: no retorna un DataFrame como X.\n",
    "assert type(dividir_datos(archivo)[0]) == pd.DataFrame, f\"Tu función debe retornar una tupla de con un objeto en su primera posición de tipo {type(archivo).__name__}.\"\n",
    "\n",
    "# Caso 4: no retorna un Series como y.\n",
    "assert type(dividir_datos(archivo)[1]) == pd.Series, f\"Tu función debe retornar una tupla de con un objeto en su segunda posición de tipo {type(pd.Series()).__name__}.\"\n",
    "\n",
    "# Caso 5: respuesta y\n",
    "try:\n",
    "    npt.assert_approx_equal(dividir_datos(archivo)[1].mean(), 5.857142857142857)\n",
    "    assert dividir_datos(archivo)[1][6] == 6\n",
    "except AssertionError as e:\n",
    "    e.args += (\"Los datos de la variable de respuesta, y, son incorrectos.\",)\n",
    "    raise e\n",
    "\n",
    "# Caso 6: respuesta X\n",
    "try:\n",
    "    npt.assert_approx_equal(dividir_datos(archivo)[0].mean()[1], 3.357142857142857)\n",
    "    assert dividir_datos(archivo)[0].iloc[5,1] == 4\n",
    "except AssertionError as e:\n",
    "    e.args += (\"Los datos de las variables explicativas, X, son incorrectos.\",)\n",
    "    raise e\n",
    "\n",
    "# Caso 7: procedimiento incorrecto y\n",
    "assert dividir_datos(archivo_test)[1].mean() == 27.65 and dividir_datos(archivo_test)[1][6] == 38, \"Tu respuesta de la variable de respuesta, y, es incorrecta para una instancia diferente de los datos.\"\n",
    "\n",
    "# Caso 8: procedimiento incorrecto X\n",
    "assert dividir_datos(archivo_test)[0].mean()[1] == 294.9 and dividir_datos(archivo_test)[0].iloc[5,3] == 21, \"Tu respuesta para X es incorrecta para una instancia diferente de los datos.\"\n",
    "\n",
    "# Mensaje de felicitaciones\n",
    "print(\"Felicidades, realizaste este ejercicio correctamente.\")"
   ]
  },
  {
   "cell_type": "markdown",
   "id": "860e693a",
   "metadata": {},
   "source": [
    "### Ejercicio 2\n",
    "\n",
    "A continuación, encuentras una tupla ($X$, $y$) con la cual podrás probar tu solución."
   ]
  },
  {
   "cell_type": "code",
   "execution_count": 5,
   "id": "a76a5472",
   "metadata": {},
   "outputs": [
    {
     "data": {
      "text/plain": [
       "(   x1  x2  x3\n",
       " 0   6   3  22\n",
       " 1   8   1  35\n",
       " 2   6   2  41\n",
       " 3   4   2   3\n",
       " 4   5   1  18\n",
       " 5   7   4  18\n",
       " 6   8   5   9,\n",
       " 0    9\n",
       " 1    1\n",
       " 2    5\n",
       " 3    3\n",
       " 4    9\n",
       " 5    9\n",
       " 6    6\n",
       " dtype: int64)"
      ]
     },
     "execution_count": 5,
     "metadata": {},
     "output_type": "execute_result"
    }
   ],
   "source": [
    "datos = (pd.DataFrame({\"x1\":[6,  8,  6,  4, 5,  7,  8],\n",
    "                       \"x2\":[3,  1,  2,  2, 1,  4,  5],\n",
    "                       \"x3\":[22, 35, 41, 3, 18, 18, 9]}),\n",
    "         pd.Series([9, 1, 5, 3, 9, 9, 6]))\n",
    "datos"
   ]
  },
  {
   "cell_type": "markdown",
   "id": "78203ec9",
   "metadata": {},
   "source": [
    "Implementa una función llamada `crear_train_test` que reciba una tupla ($X$, $y$) por parámetro y realice una partición, 70% para entrenar al modelo y 30% para validarlo, con el fin de retornar una tupla de la forma (`X_train`, `X_test`, `y_train`, `y_test`). Usa el parámetro `random_state = 0` para que tus respuestas coincidan con las nuestras.\n",
    "\n",
    "Esta función debe retornar una tupla de la forma (`X_train`, `X_test`, `y_train`, `y_test`) donde `X_train` y `X_test` son de tipo `DataFrame` y `y_train` y `y_test` de tipo `Series`."
   ]
  },
  {
   "cell_type": "code",
   "execution_count": 38,
   "id": "e50bc613",
   "metadata": {},
   "outputs": [],
   "source": [
    "def crear_train_test(datos: tuple) -> tuple:\n",
    "    X, y = datos\n",
    "    X_train, X_test, y_train, y_test = train_test_split(X, y, test_size=0.3, random_state=0)\n",
    "    # test_size=0.3 indica que el 30% será para prueba\n",
    "    # random_state=0 para que la partición sea siempre igual\n",
    "    \n",
    "    return (X_train, X_test, y_train, y_test)\n",
    "    # Retorna una tupla con los conjuntos de entrenamiento y prueba"
   ]
  },
  {
   "cell_type": "code",
   "execution_count": 39,
   "id": "bd7e5078",
   "metadata": {},
   "outputs": [
    {
     "name": "stdout",
     "output_type": "stream",
     "text": [
      "Felicidades, realizaste este ejercicio correctamente.\n"
     ]
    },
    {
     "name": "stderr",
     "output_type": "stream",
     "text": [
      "C:\\Users\\Karen\\AppData\\Local\\Temp\\ipykernel_6148\\739449148.py:33: FutureWarning: Series.__getitem__ treating keys as positions is deprecated. In a future version, integer keys will always be treated as labels (consistent with DataFrame behavior). To access a value by position, use `ser.iloc[pos]`\n",
      "  assert crear_train_test(datos)[0].mean()[2] == 15.25 and crear_train_test(datos)[0].iloc[1,1] == 3, \"Los valores de X_train son incorrectos.\"\n",
      "C:\\Users\\Karen\\AppData\\Local\\Temp\\ipykernel_6148\\739449148.py:37: FutureWarning: Series.__getitem__ treating keys as positions is deprecated. In a future version, integer keys will always be treated as labels (consistent with DataFrame behavior). To access a value by position, use `ser.iloc[pos]`\n",
      "  npt.assert_approx_equal(crear_train_test(datos)[1].mean()[2], 28.333333333333332)\n",
      "C:\\Users\\Karen\\AppData\\Local\\Temp\\ipykernel_6148\\739449148.py:51: FutureWarning: Series.__getitem__ treating keys as positions is deprecated. In a future version, integer keys will always be treated as labels (consistent with DataFrame behavior). To access a value by position, use `ser.iloc[pos]`\n",
      "  npt.assert_approx_equal(crear_train_test(datos_test)[0].mean()[2], 27.555555555555557)\n"
     ]
    }
   ],
   "source": [
    "## AUTO-CALIFICADOR\n",
    "\n",
    "# Base variables\n",
    "datos = (pd.DataFrame({\"x1\":[6,  8,  6,  4, 5,  7,  8],\n",
    "                       \"x2\":[3,  1,  2,  2, 1,  4,  5],\n",
    "                       \"x3\":[22, 35, 41, 3, 18, 18, 9]}),\n",
    "         pd.Series([9, 1, 5, 3, 9, 9, 6]))\n",
    "archivo = pd.read_excel(\"datosTaller.xlsx\")\n",
    "archivo_test = pd.read_excel(\"datosTallerTest.xlsx\")\n",
    "datos_test = (pd.DataFrame(archivo)[pd.DataFrame(archivo).columns[1:]], pd.DataFrame(archivo)[pd.DataFrame(archivo).columns[0]])\n",
    "\n",
    "# Caso 1: no existe la función.\n",
    "try:\n",
    "    crear_train_test\n",
    "    assert type(crear_train_test) == type(lambda:None)\n",
    "except:\n",
    "    raise NotImplementedError(\"No existe una función llamada crear_train_test.\",)\n",
    "    \n",
    "# Caso 2: la función es interrumpida por errores durante su ejecución.\n",
    "try:\n",
    "    crear_train_test(datos)\n",
    "    crear_train_test((pd.DataFrame(archivo)[pd.DataFrame(archivo).columns[1:]], pd.DataFrame(archivo)[pd.DataFrame(archivo).columns[0]]))\n",
    "except:\n",
    "    raise RuntimeError(\"Tu función produce un error al ejecutarse.\")\n",
    "\n",
    "# Caso 3: no retorna un DataFrame como X_train.\n",
    "assert type(crear_train_test(datos)[0]) == pd.DataFrame and type(crear_train_test(datos)[1]) == pd.DataFrame, f\"Tu función debe retornar una tupla cuyos primeros dos objetos sean de tipo {pd.DataFrame.__name__}.\"\n",
    "\n",
    "# Caso 4: no retorna un Series como y.\n",
    "assert type(crear_train_test(datos)[2]) == pd.Series and type(crear_train_test(datos)[3]) == pd.Series, f\"Tu función debe retornar un objeto de tipo '{pd.Series.__name__}' como y_train y y_test.\"\n",
    "\n",
    "# Caso 5: respuesta X_train\n",
    "assert crear_train_test(datos)[0].mean()[2] == 15.25 and crear_train_test(datos)[0].iloc[1,1] == 3, \"Los valores de X_train son incorrectos.\"\n",
    "\n",
    "# Caso 6: respuesta X_test\n",
    "try:\n",
    "    npt.assert_approx_equal(crear_train_test(datos)[1].mean()[2], 28.333333333333332)\n",
    "    assert crear_train_test(datos)[1].iloc[1,1] == 2\n",
    "except AssertionError as e:\n",
    "    e.args += (\"Los valores de X_test son incorrectos.\",)\n",
    "    raise e\n",
    "\n",
    "# Caso 7: respuesta y_train\n",
    "assert crear_train_test(datos)[2].mean() == 7.5 and crear_train_test(datos)[2].iloc[3] == 9, \"La variable de respuesta y_train es incorrecta.\"\n",
    "\n",
    "# Caso 8: respuesta y_test\n",
    "assert crear_train_test(datos)[3].mean() == 4.0 and crear_train_test(datos)[3].iloc[2]==1, \"La variable de respuesta y_test es incorrecta.\"\n",
    "\n",
    "# Caso 9: procedimiento incorrecto X_train\n",
    "try:\n",
    "    npt.assert_approx_equal(crear_train_test(datos_test)[0].mean()[2], 27.555555555555557)\n",
    "    assert crear_train_test(datos_test)[0].iloc[1,1] == 5\n",
    "except AssertionError as e:\n",
    "    e.args += (\"Tu respuesta para X_train es incorrecta para una instancia diferente de los datos.\",)\n",
    "    raise e\n",
    "\n",
    "# Caso 10: procedimiento incorrecto y_train\n",
    "try:\n",
    "    npt.assert_approx_equal(crear_train_test(datos_test)[2].mean(), 5.888888888888889)\n",
    "    assert crear_train_test(datos_test)[2].iloc[3] == 4\n",
    "except AssertionError as e:\n",
    "    e.args += (\"Tu respuesta de la variable de respuesta y_train es incorrecta para una instancia diferente de los datos.\",)\n",
    "    raise e\n",
    "\n",
    "# Mensaje de felicitaciones\n",
    "print(\"Felicidades, realizaste este ejercicio correctamente.\")"
   ]
  },
  {
   "cell_type": "markdown",
   "id": "c4c6946a",
   "metadata": {},
   "source": [
    "### Ejercicio 3\n",
    "\n",
    "A continuación, encuentras una tupla de la forma (`X_train`, `X_test`, `y_train`, `y_test`) con la cual podrás probar tu solución."
   ]
  },
  {
   "cell_type": "code",
   "execution_count": 40,
   "id": "01780111",
   "metadata": {},
   "outputs": [
    {
     "data": {
      "text/plain": [
       "(   x1  x2  x3\n",
       " 0   6   3  22\n",
       " 1   8   1  35\n",
       " 2   6   2  41\n",
       " 3   4   2   3\n",
       " 4   5   1  18\n",
       " 5   7   4  18\n",
       " 6   8   5   9,\n",
       "    x1  x2  x3\n",
       " 0   7   5  47\n",
       " 1   6   4  50\n",
       " 2   5   4  11\n",
       " 3   3   4  42\n",
       " 4   5   4   1,\n",
       " 0    9\n",
       " 1    1\n",
       " 2    5\n",
       " 3    3\n",
       " 4    9\n",
       " 5    9\n",
       " 6    6\n",
       " dtype: int64,\n",
       " 0    10\n",
       " 1     3\n",
       " 2     7\n",
       " 3     6\n",
       " 4     8\n",
       " dtype: int64)"
      ]
     },
     "execution_count": 40,
     "metadata": {},
     "output_type": "execute_result"
    }
   ],
   "source": [
    "datos = (pd.DataFrame({\"x1\":[6,  8,  6,  4,  5,  7,  8],\n",
    "                       \"x2\":[3,  1,  2,  2,  1,  4,  5],\n",
    "                       \"x3\":[22, 35, 41, 3,  18, 18, 9]}),\n",
    "         pd.DataFrame({\"x1\":[7,  6,  5,  3,  5],\n",
    "                       \"x2\":[5,  4,  4,  4,  4],\n",
    "                       \"x3\":[47, 50, 11, 42, 1]}),\n",
    "         pd.Series([9,  1, 5, 3, 9, 9, 6]),\n",
    "         pd.Series([10, 3, 7, 6, 8]))\n",
    "datos"
   ]
  },
  {
   "cell_type": "markdown",
   "id": "18c026e1",
   "metadata": {},
   "source": [
    "Implementa una función llamada `crear_modelo` que reciba una tupla de la forma (`X_train`, `X_test`, `y_train`, `y_test`) por parámetro y cree un modelo de regresión lineal con el fin de explicar la variable de interés. Finalmente, retorna el modelo creado luego de entrenarlo con los datos recibidos por parámetro.\n",
    "\n",
    "Esta función debe retornar un modelo de la librería `sklearn`."
   ]
  },
  {
   "cell_type": "code",
   "execution_count": 41,
   "id": "fc1dcae9",
   "metadata": {},
   "outputs": [],
   "source": [
    "def crear_modelo(datos: tuple) -> LinearRegression:\n",
    "    X_train, X_test, y_train, y_test = datos\n",
    "    # crea el modelo\n",
    "    modelo = LinearRegression()\n",
    "    modelo.fit(X_train, y_train)\n",
    "    return modelo"
   ]
  },
  {
   "cell_type": "code",
   "execution_count": 42,
   "id": "63c63b21",
   "metadata": {},
   "outputs": [
    {
     "name": "stdout",
     "output_type": "stream",
     "text": [
      "Felicidades, realizaste este ejercicio correctamente.\n"
     ]
    }
   ],
   "source": [
    "## AUTO-CALIFICADOR\n",
    "\n",
    "# Base variables\n",
    "datos = (pd.DataFrame({\"x1\":[6,  8,  6,  4,  5,  7,  8],\n",
    "                       \"x2\":[3,  1,  2,  2,  1,  4,  5],\n",
    "                       \"x3\":[22, 35, 41, 3,  18, 18, 9]}),\n",
    "         pd.DataFrame({\"x1\":[7,  6,  5,  3,  5],\n",
    "                       \"x2\":[5,  4,  4,  4,  4],\n",
    "                       \"x3\":[47, 50, 11, 42, 1]}),\n",
    "         pd.Series([9,  1, 5, 3, 9, 9, 6]),\n",
    "         pd.Series([10, 3, 7, 6, 8]))\n",
    "archivo = pd.read_excel(\"datosTaller.xlsx\")\n",
    "archivo_test = pd.read_excel(\"datosTallerTest.xlsx\")\n",
    "datos_test = (pd.DataFrame(archivo_test)[pd.DataFrame(archivo_test).columns[1:]], pd.DataFrame(archivo_test)[pd.DataFrame(archivo_test).columns[0]])\n",
    "datos_test = train_test_split(datos_test[0], datos_test[1], random_state=0)\n",
    "\n",
    "# Caso 1: no existe la función.\n",
    "try:\n",
    "    crear_modelo\n",
    "    assert type(crear_modelo) == type(lambda:None)\n",
    "except:\n",
    "    raise NotImplementedError(\"No existe una función llamada crear_modelo.\",)\n",
    "    \n",
    "# Caso 2: la función es interrumpida por errores durante su ejecución.\n",
    "try:\n",
    "    crear_modelo(datos)\n",
    "    #crear_modelo(archivo_test)\n",
    "except:\n",
    "    raise RuntimeError(\"Tu función produce un error al ejecutarse.\")\n",
    "\n",
    "# Caso 3: no retorna LinearRegression.\n",
    "assert type(crear_modelo(datos)) == LinearRegression, f\"Tu función debe retornar un objeto de tipo '{LinearRegression.__name__}'.\"\n",
    "\n",
    "# Caso 4: respuesta coef_\n",
    "try:\n",
    "    npt.assert_approx_equal(crear_modelo(datos).coef_[0], -1.2195141060248855)\n",
    "except AssertionError as e:\n",
    "    e.args += (\"Los coeficientes del modelo son incorrectos, revisa la implementación de la regresión.\",)\n",
    "    raise e\n",
    "\n",
    "# Caso 5: respuesta intercept_\n",
    "try:\n",
    "    npt.assert_approx_equal(crear_modelo(datos).intercept_, 7.996285638991168)\n",
    "except AssertionError as e:\n",
    "    e.args += (\"El intercepto del modelo es incorrecto, revisa la implementación de la regresión.\",)\n",
    "    raise e\n",
    "\n",
    "# Caso 6: procedimiento incorrecto coef_\n",
    "try:\n",
    "    npt.assert_approx_equal(crear_modelo(datos_test).coef_[0], -1.953081558461383)\n",
    "except AssertionError as e:\n",
    "    e.args += (\"Los coeficientes del modelo son incorrectos para una instancia diferente de los datos.\",)\n",
    "    raise e\n",
    "\n",
    "# Caso 7: procedimiento incorrecto\n",
    "try:\n",
    "    npt.assert_approx_equal(crear_modelo(datos_test).intercept_, 37.752378744745855)\n",
    "except AssertionError as e:\n",
    "    e.args += (\"El intercepto del modelo es incorrecto para una instancia diferente de los datos.\",)\n",
    "    raise e\n",
    "\n",
    "# Mensaje de felicitaciones\n",
    "print(\"Felicidades, realizaste este ejercicio correctamente.\")"
   ]
  },
  {
   "cell_type": "markdown",
   "id": "89feb2af",
   "metadata": {},
   "source": [
    "### Ejercicio 4\n",
    "\n",
    "A continuación, encuentras un modelo de regresión lineal entrenado y una tupla de la forma (`X_train`, `X_test`, `y_train`, `y_test`) con la cual podrás probar tu solución. Para esto se usará la librería `pickle` la cual permite almacenar y cargar objetos de Python como modelos o estructuras de datos."
   ]
  },
  {
   "cell_type": "code",
   "execution_count": 20,
   "id": "f146b97c",
   "metadata": {},
   "outputs": [
    {
     "name": "stderr",
     "output_type": "stream",
     "text": [
      "c:\\Users\\Miguel\\AppData\\Local\\Programs\\Python\\Python313\\Lib\\site-packages\\sklearn\\base.py:442: InconsistentVersionWarning: Trying to unpickle estimator LinearRegression from version 0.22.2.post1 when using version 1.7.1. This might lead to breaking code or invalid results. Use at your own risk. For more info please refer to:\n",
      "https://scikit-learn.org/stable/model_persistence.html#security-maintainability-limitations\n",
      "  warnings.warn(\n"
     ]
    }
   ],
   "source": [
    "import pickle\n",
    "\n",
    "modelo = pickle.load(open(\"modeloTaller\", 'rb'))\n",
    "\n",
    "datos = (pd.DataFrame({\"x1\":[6,  8,  6,  4,  5,  7,  8],\n",
    "                       \"x2\":[3,  1,  2,  2,  1,  4,  5],\n",
    "                       \"x3\":[22, 35, 41, 3,  18, 18, 9]}),\n",
    "         pd.DataFrame({\"x1\":[7,  6,  5,  3,  5],\n",
    "                       \"x2\":[5,  4,  4,  4,  4],\n",
    "                       \"x3\":[47, 50, 11, 42, 1]}),\n",
    "         pd.Series([9,  1, 5, 3, 9, 9, 6]),\n",
    "         pd.Series([10, 3, 7, 6, 8]))"
   ]
  },
  {
   "cell_type": "markdown",
   "id": "bf2b50f1",
   "metadata": {},
   "source": [
    "Implementa una función llamada `predecir` que reciba un modelo entrenado y una tupla de la forma (`X_train`, `X_test`, `y_train`, `y_test`) por parámetro y prediga la variable de interés a partir del conjunto de datos `X_test`. Finalmente, la función debe retornar el valor de la predicción hecha. \n",
    "\n",
    "Esta función debe retornar un arreglo de `numpy` con las predicciones hechas."
   ]
  },
  {
   "cell_type": "code",
   "execution_count": 29,
   "id": "7a69934f",
   "metadata": {},
   "outputs": [],
   "source": [
    "import numpy as np\n",
    "\n",
    "def predecir(modelo, datos):\n",
    "    X_train, X_test, y_train, y_test = datos\n",
    "    X_test = X_test[X_train.columns]   # mantener orden de columnas\n",
    "    predicciones = modelo.predict(X_test)\n",
    "    return np.array(predicciones)\n"
   ]
  },
  {
   "cell_type": "code",
   "execution_count": 31,
   "id": "caf7262b",
   "metadata": {},
   "outputs": [
    {
     "name": "stderr",
     "output_type": "stream",
     "text": [
      "c:\\Users\\Miguel\\AppData\\Local\\Programs\\Python\\Python313\\Lib\\site-packages\\sklearn\\base.py:442: InconsistentVersionWarning: Trying to unpickle estimator LinearRegression from version 0.22.2.post1 when using version 1.7.1. This might lead to breaking code or invalid results. Use at your own risk. For more info please refer to:\n",
      "https://scikit-learn.org/stable/model_persistence.html#security-maintainability-limitations\n",
      "  warnings.warn(\n"
     ]
    },
    {
     "ename": "RuntimeError",
     "evalue": "Tu función produce un error al ejecutarse.",
     "output_type": "error",
     "traceback": [
      "\u001b[31m---------------------------------------------------------------------------\u001b[39m",
      "\u001b[31mAttributeError\u001b[39m                            Traceback (most recent call last)",
      "\u001b[36mCell\u001b[39m\u001b[36m \u001b[39m\u001b[32mIn[31]\u001b[39m\u001b[32m, line 28\u001b[39m\n\u001b[32m     27\u001b[39m \u001b[38;5;28;01mtry\u001b[39;00m:\n\u001b[32m---> \u001b[39m\u001b[32m28\u001b[39m     \u001b[43mpredecir\u001b[49m\u001b[43m(\u001b[49m\u001b[43mmodelo\u001b[49m\u001b[43m,\u001b[49m\u001b[43m \u001b[49m\u001b[43mdatos\u001b[49m\u001b[43m)\u001b[49m\n\u001b[32m     29\u001b[39m     \u001b[38;5;66;03m#crear_modelo(archivo_test)\u001b[39;00m\n",
      "\u001b[36mCell\u001b[39m\u001b[36m \u001b[39m\u001b[32mIn[29]\u001b[39m\u001b[32m, line 6\u001b[39m, in \u001b[36mpredecir\u001b[39m\u001b[34m(modelo, datos)\u001b[39m\n\u001b[32m      5\u001b[39m X_test = X_test[X_train.columns]   \u001b[38;5;66;03m# mantener orden de columnas\u001b[39;00m\n\u001b[32m----> \u001b[39m\u001b[32m6\u001b[39m predicciones = \u001b[43mmodelo\u001b[49m\u001b[43m.\u001b[49m\u001b[43mpredict\u001b[49m\u001b[43m(\u001b[49m\u001b[43mX_test\u001b[49m\u001b[43m)\u001b[49m\n\u001b[32m      7\u001b[39m \u001b[38;5;28;01mreturn\u001b[39;00m np.array(predicciones)\n",
      "\u001b[36mFile \u001b[39m\u001b[32mc:\\Users\\Miguel\\AppData\\Local\\Programs\\Python\\Python313\\Lib\\site-packages\\sklearn\\linear_model\\_base.py:298\u001b[39m, in \u001b[36mLinearModel.predict\u001b[39m\u001b[34m(self, X)\u001b[39m\n\u001b[32m    285\u001b[39m \u001b[38;5;250m\u001b[39m\u001b[33;03m\"\"\"\u001b[39;00m\n\u001b[32m    286\u001b[39m \u001b[33;03mPredict using the linear model.\u001b[39;00m\n\u001b[32m    287\u001b[39m \n\u001b[32m   (...)\u001b[39m\u001b[32m    296\u001b[39m \u001b[33;03m    Returns predicted values.\u001b[39;00m\n\u001b[32m    297\u001b[39m \u001b[33;03m\"\"\"\u001b[39;00m\n\u001b[32m--> \u001b[39m\u001b[32m298\u001b[39m \u001b[38;5;28;01mreturn\u001b[39;00m \u001b[38;5;28;43mself\u001b[39;49m\u001b[43m.\u001b[49m\u001b[43m_decision_function\u001b[49m\u001b[43m(\u001b[49m\u001b[43mX\u001b[49m\u001b[43m)\u001b[49m\n",
      "\u001b[36mFile \u001b[39m\u001b[32mc:\\Users\\Miguel\\AppData\\Local\\Programs\\Python\\Python313\\Lib\\site-packages\\sklearn\\linear_model\\_base.py:275\u001b[39m, in \u001b[36mLinearModel._decision_function\u001b[39m\u001b[34m(self, X)\u001b[39m\n\u001b[32m    274\u001b[39m \u001b[38;5;28;01mdef\u001b[39;00m\u001b[38;5;250m \u001b[39m\u001b[34m_decision_function\u001b[39m(\u001b[38;5;28mself\u001b[39m, X):\n\u001b[32m--> \u001b[39m\u001b[32m275\u001b[39m     \u001b[43mcheck_is_fitted\u001b[49m\u001b[43m(\u001b[49m\u001b[38;5;28;43mself\u001b[39;49m\u001b[43m)\u001b[49m\n\u001b[32m    277\u001b[39m     X = validate_data(\u001b[38;5;28mself\u001b[39m, X, accept_sparse=[\u001b[33m\"\u001b[39m\u001b[33mcsr\u001b[39m\u001b[33m\"\u001b[39m, \u001b[33m\"\u001b[39m\u001b[33mcsc\u001b[39m\u001b[33m\"\u001b[39m, \u001b[33m\"\u001b[39m\u001b[33mcoo\u001b[39m\u001b[33m\"\u001b[39m], reset=\u001b[38;5;28;01mFalse\u001b[39;00m)\n",
      "\u001b[36mFile \u001b[39m\u001b[32mc:\\Users\\Miguel\\AppData\\Local\\Programs\\Python\\Python313\\Lib\\site-packages\\sklearn\\utils\\validation.py:1748\u001b[39m, in \u001b[36mcheck_is_fitted\u001b[39m\u001b[34m(estimator, attributes, msg, all_or_any)\u001b[39m\n\u001b[32m   1746\u001b[39m     \u001b[38;5;28;01mraise\u001b[39;00m \u001b[38;5;167;01mTypeError\u001b[39;00m(\u001b[33m\"\u001b[39m\u001b[38;5;132;01m%s\u001b[39;00m\u001b[33m is not an estimator instance.\u001b[39m\u001b[33m\"\u001b[39m % (estimator))\n\u001b[32m-> \u001b[39m\u001b[32m1748\u001b[39m tags = \u001b[43mget_tags\u001b[49m\u001b[43m(\u001b[49m\u001b[43mestimator\u001b[49m\u001b[43m)\u001b[49m\n\u001b[32m   1750\u001b[39m \u001b[38;5;28;01mif\u001b[39;00m \u001b[38;5;129;01mnot\u001b[39;00m tags.requires_fit \u001b[38;5;129;01mand\u001b[39;00m attributes \u001b[38;5;129;01mis\u001b[39;00m \u001b[38;5;28;01mNone\u001b[39;00m:\n",
      "\u001b[36mFile \u001b[39m\u001b[32mc:\\Users\\Miguel\\AppData\\Local\\Programs\\Python\\Python313\\Lib\\site-packages\\sklearn\\utils\\_tags.py:325\u001b[39m, in \u001b[36mget_tags\u001b[39m\u001b[34m(estimator)\u001b[39m\n\u001b[32m    324\u001b[39m \u001b[38;5;28;01mtry\u001b[39;00m:\n\u001b[32m--> \u001b[39m\u001b[32m325\u001b[39m     tags = \u001b[43mestimator\u001b[49m\u001b[43m.\u001b[49m\u001b[43m__sklearn_tags__\u001b[49m\u001b[43m(\u001b[49m\u001b[43m)\u001b[49m\n\u001b[32m    326\u001b[39m \u001b[38;5;28;01mexcept\u001b[39;00m \u001b[38;5;167;01mAttributeError\u001b[39;00m \u001b[38;5;28;01mas\u001b[39;00m exc:\n\u001b[32m    327\u001b[39m     \u001b[38;5;66;03m# TODO(1.8): turn the warning into an error\u001b[39;00m\n",
      "\u001b[36mFile \u001b[39m\u001b[32mc:\\Users\\Miguel\\AppData\\Local\\Programs\\Python\\Python313\\Lib\\site-packages\\sklearn\\linear_model\\_base.py:711\u001b[39m, in \u001b[36mLinearRegression.__sklearn_tags__\u001b[39m\u001b[34m(self)\u001b[39m\n\u001b[32m    710\u001b[39m tags = \u001b[38;5;28msuper\u001b[39m().__sklearn_tags__()\n\u001b[32m--> \u001b[39m\u001b[32m711\u001b[39m tags.input_tags.sparse = \u001b[38;5;129;01mnot\u001b[39;00m \u001b[38;5;28;43mself\u001b[39;49m\u001b[43m.\u001b[49m\u001b[43mpositive\u001b[49m\n\u001b[32m    712\u001b[39m \u001b[38;5;28;01mreturn\u001b[39;00m tags\n",
      "\u001b[31mAttributeError\u001b[39m: 'LinearRegression' object has no attribute 'positive'",
      "\nDuring handling of the above exception, another exception occurred:\n",
      "\u001b[31mRuntimeError\u001b[39m                              Traceback (most recent call last)",
      "\u001b[36mCell\u001b[39m\u001b[36m \u001b[39m\u001b[32mIn[31]\u001b[39m\u001b[32m, line 31\u001b[39m\n\u001b[32m     29\u001b[39m     \u001b[38;5;66;03m#crear_modelo(archivo_test)\u001b[39;00m\n\u001b[32m     30\u001b[39m \u001b[38;5;28;01mexcept\u001b[39;00m:\n\u001b[32m---> \u001b[39m\u001b[32m31\u001b[39m     \u001b[38;5;28;01mraise\u001b[39;00m \u001b[38;5;167;01mRuntimeError\u001b[39;00m(\u001b[33m\"\u001b[39m\u001b[33mTu función produce un error al ejecutarse.\u001b[39m\u001b[33m\"\u001b[39m)\n\u001b[32m     33\u001b[39m \u001b[38;5;66;03m# Caso 3: no retorna un arreglo.\u001b[39;00m\n\u001b[32m     34\u001b[39m \u001b[38;5;28;01massert\u001b[39;00m \u001b[38;5;28mtype\u001b[39m(predecir(modelo, datos)) == np.ndarray, \u001b[33mf\u001b[39m\u001b[33m\"\u001b[39m\u001b[33mTu función debe retornar un objeto de tipo \u001b[39m\u001b[33m'\u001b[39m\u001b[38;5;132;01m{\u001b[39;00mnp.ndarray.\u001b[34m__name__\u001b[39m\u001b[38;5;132;01m}\u001b[39;00m\u001b[33m'\u001b[39m\u001b[33m.\u001b[39m\u001b[33m\"\u001b[39m\n",
      "\u001b[31mRuntimeError\u001b[39m: Tu función produce un error al ejecutarse."
     ]
    }
   ],
   "source": [
    "## AUTO-CALIFICADOR\n",
    "\n",
    "# Base variables\n",
    "modelo = pickle.load(open(\"modeloTaller\", 'rb'))\n",
    "datos = (pd.DataFrame({\"x1\":[6,  8,  6,  4,  5,  7,  8],\n",
    "                       \"x2\":[3,  1,  2,  2,  1,  4,  5],\n",
    "                       \"x3\":[22, 35, 41, 3,  18, 18, 9]}),\n",
    "         pd.DataFrame({\"x1\":[7,  6,  5,  3,  5],\n",
    "                       \"x2\":[5,  4,  4,  4,  4],\n",
    "                       \"x3\":[47, 50, 11, 42, 1]}),\n",
    "         pd.Series([9,  1, 5, 3, 9, 9, 6]),\n",
    "         pd.Series([10, 3, 7, 6, 8]))\n",
    "         \n",
    "archivo = pd.read_excel(\"datosTaller.xlsx\")\n",
    "archivo_test = pd.read_excel(\"datosTallerTest.xlsx\")\n",
    "datos_test = (pd.DataFrame(archivo)[pd.DataFrame(archivo).columns[1:]], pd.DataFrame(archivo)[pd.DataFrame(archivo).columns[0]])\n",
    "datos_test = train_test_split(datos_test[0], datos_test[1], random_state=0)\n",
    "\n",
    "# Caso 1: no existe la función.\n",
    "try:\n",
    "    predecir\n",
    "    assert type(predecir) == type(lambda:None)\n",
    "except:\n",
    "    raise NotImplementedError(\"No existe una función llamada predecir.\",)\n",
    "    \n",
    "# Caso 2: la función es interrumpida por errores durante su ejecución.\n",
    "try:\n",
    "    predecir(modelo, datos)\n",
    "    #crear_modelo(archivo_test)\n",
    "except:\n",
    "    raise RuntimeError(\"Tu función produce un error al ejecutarse.\")\n",
    "\n",
    "# Caso 3: no retorna un arreglo.\n",
    "assert type(predecir(modelo, datos)) == np.ndarray, f\"Tu función debe retornar un objeto de tipo '{np.ndarray.__name__}'.\"\n",
    "\n",
    "# Caso 4: respuesta len()\n",
    "assert len(predecir(modelo, datos)) == 5, \"La longitud del arreglo con los datos dados es incorrecta.\"\n",
    "\n",
    "# Caso 5: respuesta incorrecta\n",
    "try:\n",
    "    npt.assert_approx_equal(predecir(modelo, datos).mean(), 10.627099878205998)\n",
    "    npt.assert_approx_equal(predecir(modelo, datos)[3], 13.866931147214054)\n",
    "    npt.assert_approx_equal(predecir(modelo, datos)[1], 10.803128182847708)\n",
    "except AssertionError as e:\n",
    "    e.args += (\"Los valores de la solución son incorrectos, revisa la implementación de la función.\",)\n",
    "    raise e\n",
    "\n",
    "# Caso 6: procedimiento incorrecto\n",
    "try:\n",
    "    npt.assert_approx_equal(predecir(modelo, datos_test).mean(), 6.888353715429375)\n",
    "    npt.assert_approx_equal(predecir(modelo, datos_test)[3], 9.123287939544587)\n",
    "    npt.assert_approx_equal(predecir(modelo, datos_test)[1], 6.917762337875083)\n",
    "except AssertionError as e:\n",
    "    e.args += (\"Los valores de la solución son incorrectos para una instancia diferente de los datos.\",)\n",
    "    raise e\n",
    "\n",
    "# Mensaje de felicitaciones\n",
    "print(\"Felicidades, realizaste este ejercicio correctamente.\")"
   ]
  },
  {
   "cell_type": "markdown",
   "id": "ba7f7bdb",
   "metadata": {},
   "source": [
    "### Ejercicio 5\n",
    "\n",
    "A continuación, encuentras en la variable `modelo` un modelo de regresión lineal entrenado y las variable `X_test` y `y_test` con las cuales podrás probar tu solución. Para esto se usará la librería `pickle` la cual permite almacenar y cargar objetos de Python como modelos o estructuras de datos."
   ]
  },
  {
   "cell_type": "code",
   "execution_count": 6,
   "id": "7b160f0a",
   "metadata": {},
   "outputs": [
    {
     "name": "stderr",
     "output_type": "stream",
     "text": [
      "c:\\Users\\Miguel\\AppData\\Local\\Programs\\Python\\Python313\\Lib\\site-packages\\sklearn\\base.py:442: InconsistentVersionWarning: Trying to unpickle estimator LinearRegression from version 0.22.2.post1 when using version 1.7.1. This might lead to breaking code or invalid results. Use at your own risk. For more info please refer to:\n",
      "https://scikit-learn.org/stable/model_persistence.html#security-maintainability-limitations\n",
      "  warnings.warn(\n"
     ]
    }
   ],
   "source": [
    "import pickle\n",
    "\n",
    "modelo = pickle.load(open(\"modeloTaller\", 'rb'))\n",
    "\n",
    "X_test = pd.DataFrame({\"x1\":[7,  6,  5,  3,  5],\n",
    "                       \"x2\":[5,  4,  4,  4,  4],\n",
    "                       \"x3\":[47, 50, 11, 42, 1]})\n",
    "\n",
    "y_test = pd.Series([10, 3, 7, 6, 8])"
   ]
  },
  {
   "cell_type": "markdown",
   "id": "8cd3af6f",
   "metadata": {},
   "source": [
    "Implementa una función llamada `calcular_precision` que reciba un modelo entrenado, y una tupla de la forma ($X_{test}$, $y_{test}$) por parámetro y retorne el score $R^2$ del modelo.\n",
    "\n",
    "Esta función debe retornar un valor númerico tipo float (`flt`)."
   ]
  },
  {
   "cell_type": "code",
   "execution_count": 10,
   "id": "b18eb92c",
   "metadata": {},
   "outputs": [],
   "source": [
    "import numpy as np\n",
    "\n",
    "def _manual_predict_from_coef(modelo, X):\n",
    "    \n",
    "    coef = getattr(modelo, \"coef_\", None)\n",
    "    if coef is None:\n",
    "        raise AttributeError(\"El modelo no tiene 'coef_' entrenado.\")\n",
    "    coef = np.asarray(coef).reshape(-1)           \n",
    "    X_mat = np.asarray(X, dtype=float)          \n",
    "    intercept = getattr(modelo, \"intercept_\", 0.0)\n",
    "    intercept = float(np.asarray(intercept).reshape(()))  \n",
    "    y_pred = X_mat @ coef + intercept\n",
    "    return np.asarray(y_pred, dtype=float)\n",
    "\n",
    "def calcular_precision(modelo, X_test, y_test=None):\n",
    "   \n",
    "    if y_test is None and isinstance(X_test, tuple):\n",
    "        X_test, y_test = X_test\n",
    "\n",
    "   \n",
    "    try:\n",
    "        y_pred = modelo.predict(X_test)\n",
    "    except Exception:\n",
    "        \n",
    "        y_pred = _manual_predict_from_coef(modelo, X_test)\n",
    "\n",
    "    y_true = np.asarray(y_test, dtype=float)\n",
    "\n",
    "    \n",
    "    ss_res = np.sum((y_true - y_pred) ** 2)\n",
    "    ss_tot = np.sum((y_true - np.mean(y_true)) ** 2)\n",
    "    r2 = 1.0 - (ss_res / ss_tot)\n",
    "\n",
    "    return np.float64(r2)\n",
    "\n"
   ]
  },
  {
   "cell_type": "code",
   "execution_count": 11,
   "id": "325dd5b7",
   "metadata": {},
   "outputs": [
    {
     "name": "stdout",
     "output_type": "stream",
     "text": [
      "Felicidades, realizaste este ejercicio correctamente.\n"
     ]
    },
    {
     "name": "stderr",
     "output_type": "stream",
     "text": [
      "c:\\Users\\Miguel\\AppData\\Local\\Programs\\Python\\Python313\\Lib\\site-packages\\sklearn\\base.py:442: InconsistentVersionWarning: Trying to unpickle estimator LinearRegression from version 0.22.2.post1 when using version 1.7.1. This might lead to breaking code or invalid results. Use at your own risk. For more info please refer to:\n",
      "https://scikit-learn.org/stable/model_persistence.html#security-maintainability-limitations\n",
      "  warnings.warn(\n"
     ]
    }
   ],
   "source": [
    "## AUTO-CALIFICADOR\n",
    "\n",
    "# Base variables\n",
    "import pickle\n",
    "\n",
    "modelo = pickle.load(open(\"modeloTaller\", 'rb'))\n",
    "X_test = pd.DataFrame({\"x1\":[7,  6,  5,  3,  5],\n",
    "                       \"x2\":[5,  4,  4,  4,  4],\n",
    "                       \"x3\":[47, 50, 11, 42, 1]})\n",
    "y_test = pd.Series([10, 3, 7, 6, 8])\n",
    "archivo = pd.read_excel(\"datosTaller.xlsx\")\n",
    "archivo_test = pd.read_excel(\"datosTallerTest.xlsx\")\n",
    "datos_test = (pd.DataFrame(archivo)[pd.DataFrame(archivo).columns[1:]], pd.DataFrame(archivo)[pd.DataFrame(archivo).columns[0]])\n",
    "datos_test = train_test_split(datos_test[0], datos_test[1], random_state=0)\n",
    "\n",
    "# Caso 1: no existe la función.\n",
    "try:\n",
    "    calcular_precision\n",
    "    assert type(calcular_precision) == type(lambda:None)\n",
    "except:\n",
    "    raise NotImplementedError(\"No existe una función llamada calcular_precision.\",)\n",
    "    \n",
    "# Caso 2: la función es interrumpida por errores durante su ejecución.\n",
    "try:\n",
    "    calcular_precision(modelo, X_test, y_test)\n",
    "    #crear_modelo(archivo_test)\n",
    "except:\n",
    "    raise RuntimeError(\"Tu función produce un error al ejecutarse.\")\n",
    "\n",
    "# Caso 3: no retorna un float.\n",
    "assert type(calcular_precision(modelo, X_test, y_test)) == np.float64, f\"Tu función debe retornar un objeto de tipo '{np.float64.__name__}'.\"\n",
    "\n",
    "# Caso 4: respuesta incorrecta\n",
    "try:\n",
    "    npt.assert_approx_equal(calcular_precision(modelo, X_test, y_test), -3.7894053047960226)\n",
    "except AssertionError as e:\n",
    "    e.args += (\"La respuesta de la precisión es incorrecta.\",)\n",
    "    raise e\n",
    "\n",
    "# Caso 5: procedimiento incorrecto\n",
    "try:\n",
    "    npt.assert_approx_equal(calcular_precision(modelo, datos_test[1], datos_test[3]), -0.7120120937366505)\n",
    "except AssertionError as e:\n",
    "    e.args += (\"El valor de la precisión es incorrecto para una instancia diferente de los datos.\",)\n",
    "    raise e\n",
    "\n",
    "# Mensaje de felicitaciones\n",
    "print(\"Felicidades, realizaste este ejercicio correctamente.\")"
   ]
  }
 ],
 "metadata": {
  "kernelspec": {
   "display_name": "Python 3",
   "language": "python",
   "name": "python3"
  },
  "language_info": {
   "codemirror_mode": {
    "name": "ipython",
    "version": 3
   },
   "file_extension": ".py",
   "mimetype": "text/x-python",
   "name": "python",
   "nbconvert_exporter": "python",
   "pygments_lexer": "ipython3",
   "version": "3.13.1"
  }
 },
 "nbformat": 4,
 "nbformat_minor": 5
}
